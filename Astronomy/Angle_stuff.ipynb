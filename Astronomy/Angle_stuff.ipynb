{
 "cells": [
  {
   "cell_type": "code",
   "execution_count": 1,
   "metadata": {},
   "outputs": [],
   "source": [
    "import numpy as np"
   ]
  },
  {
   "cell_type": "code",
   "execution_count": 192,
   "metadata": {},
   "outputs": [],
   "source": [
    "def arcstuff(deg):\n",
    "    amin = np.modf(deg)[0] * 60\n",
    "    asec = np.modf(amin)[0] * 60\n",
    "    return amin, asec\n",
    "\n",
    "def angle(distance, baseline, deg=True):\n",
    "    \n",
    "    rad = np.arctan( (baseline/2) / distance ) * 2\n",
    "    deg = np.rad2deg(rad)\n",
    "    \n",
    "    arcs = arcstuff(deg)\n",
    "    \n",
    "    return {'rad':rad, 'deg':deg, 'arcmin':round(arcs[0]), 'arcsec': round(arcs[1])}"
   ]
  },
  {
   "cell_type": "code",
   "execution_count": 193,
   "metadata": {},
   "outputs": [
    {
     "name": "stdout",
     "output_type": "stream",
     "text": [
      "0.5323566883211995 0.5488888888888889\n"
     ]
    },
    {
     "data": {
      "text/plain": [
       "{'rad': 0.009291377006218175,\n",
       " 'deg': 0.5323566883211995,\n",
       " 'arcmin': 32.0,\n",
       " 'arcsec': 56.0}"
      ]
     },
     "execution_count": 193,
     "metadata": {},
     "output_type": "execute_result"
    }
   ],
   "source": [
    "v = angle(1.496e8, 1.39e6)\n",
    "\n",
    "print(v['deg'], np.modf(v['deg'])[1] + v['arcmin']/60 + v['arcsec']/3600)\n",
    "v"
   ]
  },
  {
   "cell_type": "markdown",
   "metadata": {},
   "source": [
    " \n",
    "# $ d = \\frac{baseline}{2 * tan(\\frac{parallax}{2})} $\n"
   ]
  },
  {
   "cell_type": "code",
   "execution_count": 201,
   "metadata": {},
   "outputs": [
    {
     "data": {
      "text/plain": [
       "2.6541124972341547e-06"
      ]
     },
     "execution_count": 201,
     "metadata": {},
     "output_type": "execute_result"
    }
   ],
   "source": [
    "np.deg2rad(0 + 0 + 0.54745/3600)"
   ]
  },
  {
   "cell_type": "code",
   "execution_count": 206,
   "metadata": {},
   "outputs": [
    {
     "data": {
      "text/plain": [
       "1432394.4878270873"
      ]
     },
     "execution_count": 206,
     "metadata": {},
     "output_type": "execute_result"
    }
   ],
   "source": [
    "2 / (4*np.tan(np.deg2rad(0.00001/2))) - 2 / (4*np.tan(np.deg2rad(0.00002/2)))"
   ]
  },
  {
   "cell_type": "code",
   "execution_count": null,
   "metadata": {},
   "outputs": [],
   "source": []
  }
 ],
 "metadata": {
  "kernelspec": {
   "display_name": "Python 3",
   "language": "python",
   "name": "python3"
  },
  "language_info": {
   "codemirror_mode": {
    "name": "ipython",
    "version": 3
   },
   "file_extension": ".py",
   "mimetype": "text/x-python",
   "name": "python",
   "nbconvert_exporter": "python",
   "pygments_lexer": "ipython3",
   "version": "3.6.5"
  }
 },
 "nbformat": 4,
 "nbformat_minor": 2
}
