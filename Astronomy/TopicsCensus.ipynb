{
 "cells": [
  {
   "cell_type": "code",
   "execution_count": 5,
   "metadata": {},
   "outputs": [],
   "source": [
    "PG_1 = {\n",
    "    \"Quasars\": 5,\n",
    "    \"Pulsars\":5,\n",
    "    \"Star sytems\": 1,\n",
    "    \"Black Holes\": 2,\n",
    "    \"Gravitational Lensing\": 4,\n",
    "    \"Space-time\" : 5,\n",
    "    \"Inflation & Early-Cosmology\" : 8,\n",
    "    \"Large Scale Universal Structural\"  : 6,\n",
    "    \"Exoplanets\" : 5,\n",
    "    \"Galaxies\": 2,\n",
    "    \"Galactic Evolution\": 10,\n",
    "    \"Globular Clusters\": 4,\n",
    "    \"Open Clusters\": 5,\n",
    "    \"Superclusters\": 3,\n",
    "    \"Galactic cluster\": 3,\n",
    "    \"Nebulae\" : 6,\n",
    "    \"Messier Objects\": 6,\n",
    "    \"Exobiology\": 10,\n",
    "    \"Stellar life-cycles\": 4,\n",
    "    \"HS Diagrams\"  : 8,\n",
    "    \"Special relativity and the twin\" : 7.5,\n",
    "    \"SETI\": 10,\n",
    "}"
   ]
  },
  {
   "cell_type": "code",
   "execution_count": 7,
   "metadata": {},
   "outputs": [
    {
     "data": {
      "text/plain": [
       "{'Quasars': 5,\n",
       " 'Pulsars': 5,\n",
       " 'Star sytems': 1,\n",
       " 'Black Holes': 2,\n",
       " 'Gravitational Lensing': 4,\n",
       " 'Space-time': 5,\n",
       " 'Inflation & Early-Cosmology': 8,\n",
       " 'Large Scale Universal Structural': 6,\n",
       " 'Exoplanets': 5,\n",
       " 'Galaxies': 2,\n",
       " 'Galactic Evolution': 10,\n",
       " 'Globular Clusters': 4,\n",
       " 'Open Clusters': 5,\n",
       " 'Superclusters': 3,\n",
       " 'Galactic cluster': 3,\n",
       " 'Nebulae': 6,\n",
       " 'Messier Objects': 6,\n",
       " 'Exobiology': 10,\n",
       " 'Stellar life-cycles': 4,\n",
       " 'HS Diagrams': 8,\n",
       " 'Special relativity and the twin': 7.5,\n",
       " 'SETI': 10}"
      ]
     },
     "execution_count": 7,
     "metadata": {},
     "output_type": "execute_result"
    }
   ],
   "source": [
    "PG_1"
   ]
  },
  {
   "cell_type": "code",
   "execution_count": 57,
   "metadata": {},
   "outputs": [],
   "source": [
    "import numpy as np\n",
    "class adapt_dictionary:\n",
    "    def __init__(self, other):\n",
    "        self.internal = other\n",
    "        \n",
    "    def __getitem__(self, key):\n",
    "        if key not in self.internal:\n",
    "            self.internal[key] = 0\n",
    "        return self.internal[key]\n",
    "    \n",
    "    def __setitem__(self, key, value):\n",
    "        self.internal[key] = value\n",
    "        \n",
    "    def argsort(self):\n",
    "        \n",
    "        v = self.internal.values()\n",
    "        i = np.argsort(list(v))\n",
    "        \n",
    "        return i"
   ]
  },
  {
   "cell_type": "code",
   "execution_count": 58,
   "metadata": {},
   "outputs": [],
   "source": [
    "PG_2 = adapt_dictionary(PG_1)\n",
    "\n",
    "\n",
    "PG_2['astrometry'] += 1\n",
    "PG_2['star system formation'] += 1\n",
    "PG_2['annie jump canon'] += 1\n",
    "PG_2['stellar parallax'] += 1\n",
    "\n",
    "PG_2['stellar parallax'] += 1\n",
    "PG_2['star system formation'] += 1\n",
    "PG_2['entropy'] += 1\n",
    "PG_2['annie jump canon'] += 1\n",
    "PG_2['galileo galilei'] += 1\n",
    "\n",
    "PG_2['carl sagan'] += 1\n",
    "PG_2['annie jump canon'] += 1\n",
    "PG_2['vera rubin'] += 1\n",
    "\n",
    "PG_2['galaxy mergers'] += 1\n",
    "PG_2['optical astronomy'] += 1\n",
    "PG_2['stellar parallax'] += 1\n",
    "PG_2['astrometry'] += 1\n",
    "PG_2['star system formation'] += 1\n",
    "\n",
    "PG_2['cosmological heat death'] += 1\n",
    "PG_2['galaxy mergers'] += 1\n",
    "PG_2['astrometry'] += 1\n",
    "\n",
    "PG_2['galaxy mergers'] += 1\n",
    "PG_2['star system formation'] += 1\n",
    "PG_2['galaxy formation'] += 1\n",
    "PG_2['astrometry'] += 1\n",
    "PG_2['formation of the moon'] += 1\n",
    "\n",
    "PG_2['cosmological heat death'] += 1\n",
    "PG_2['infrared astronomy'] += 1\n",
    "PG_2['stellar parallax'] += 1\n",
    "\n",
    "PG_2['cosmological heat death'] += 1\n",
    "PG_2['star system formation'] += 1\n",
    "PG_2['edmond halley'] += 1\n",
    "\n",
    "PG_2['cosmological heat death'] += 1\n",
    "PG_2['star system formation'] += 1\n",
    "PG_2['galaxy formation'] += 1"
   ]
  },
  {
   "cell_type": "code",
   "execution_count": 59,
   "metadata": {},
   "outputs": [],
   "source": [
    "i = PG_2.argsort()"
   ]
  },
  {
   "cell_type": "code",
   "execution_count": 62,
   "metadata": {},
   "outputs": [
    {
     "name": "stdout",
     "output_type": "stream",
     "text": [
      "  10.00  ------> Galactic Evolution\n",
      "  10.00  ------> SETI\n",
      "  10.00  ------> Exobiology\n",
      "   8.00  ------> Inflation & Early-Cosmology\n",
      "   8.00  ------> HS Diagrams\n",
      "   7.50  ------> Special relativity and the twin\n",
      "   6.00  ------> Large Scale Universal Structural\n",
      "   6.00  ------> Nebulae\n",
      "   6.00  ------> Messier Objects\n",
      "   6.00  ------> star system formation\n",
      "   5.00  ------> Exoplanets\n",
      "   5.00  ------> Space-time\n",
      "   5.00  ------> Open Clusters\n",
      "   5.00  ------> Pulsars\n",
      "   5.00  ------> Quasars\n",
      "   4.00  ------> Globular Clusters\n",
      "   4.00  ------> Gravitational Lensing\n",
      "   4.00  ------> Stellar life-cycles\n",
      "   4.00  ------> cosmological heat death\n",
      "   4.00  ------> stellar parallax\n",
      "   4.00  ------> astrometry\n",
      "   3.00  ------> annie jump canon\n",
      "   3.00  ------> Galactic cluster\n",
      "   3.00  ------> Superclusters\n",
      "   3.00  ------> galaxy mergers\n",
      "   2.00  ------> Galaxies\n",
      "   2.00  ------> Black Holes\n",
      "   2.00  ------> galaxy formation\n",
      "   1.00  ------> formation of the moon\n",
      "   1.00  ------> Star sytems\n",
      "   1.00  ------> infrared astronomy\n",
      "   1.00  ------> optical astronomy\n",
      "   1.00  ------> vera rubin\n",
      "   1.00  ------> carl sagan\n",
      "   1.00  ------> galileo galilei\n",
      "   1.00  ------> entropy\n",
      "   1.00  ------> edmond halley\n"
     ]
    }
   ],
   "source": [
    "k = list(PG_2.internal.keys())\n",
    "v = list(PG_2.internal.values())\n",
    "for ii in reversed(i):\n",
    "    print(\"{:7.2f}\".format(v[ii]),' ------>', k[ii])"
   ]
  },
  {
   "cell_type": "code",
   "execution_count": null,
   "metadata": {},
   "outputs": [],
   "source": []
  },
  {
   "cell_type": "code",
   "execution_count": null,
   "metadata": {},
   "outputs": [],
   "source": []
  }
 ],
 "metadata": {
  "kernelspec": {
   "display_name": "Python 3",
   "language": "python",
   "name": "python3"
  },
  "language_info": {
   "codemirror_mode": {
    "name": "ipython",
    "version": 3
   },
   "file_extension": ".py",
   "mimetype": "text/x-python",
   "name": "python",
   "nbconvert_exporter": "python",
   "pygments_lexer": "ipython3",
   "version": "3.6.5"
  }
 },
 "nbformat": 4,
 "nbformat_minor": 2
}
