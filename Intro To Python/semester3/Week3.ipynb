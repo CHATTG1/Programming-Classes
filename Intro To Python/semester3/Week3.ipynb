{
 "cells": [
  {
   "cell_type": "markdown",
   "metadata": {},
   "source": [
    "Get the CPU time now\n",
    "- Then later\n",
    "- Then the difference between the two"
   ]
  },
  {
   "cell_type": "code",
   "execution_count": null,
   "metadata": {},
   "outputs": [],
   "source": [
    "from time import time\n",
    "time()\n",
    "\n",
    "import time\n",
    "time.time()"
   ]
  },
  {
   "cell_type": "markdown",
   "metadata": {},
   "source": [
    "#### Measure datetime (UTC time)"
   ]
  },
  {
   "cell_type": "code",
   "execution_count": 6,
   "metadata": {},
   "outputs": [
    {
     "name": "stdout",
     "output_type": "stream",
     "text": [
      "2019-02-14 22:50:08.256085\n"
     ]
    }
   ],
   "source": [
    "from datetime import datetime\n",
    "\n",
    "print(datetime.utcnow())"
   ]
  },
  {
   "cell_type": "markdown",
   "metadata": {},
   "source": [
    "#### Make a function that adds two things and returns the sum"
   ]
  },
  {
   "cell_type": "code",
   "execution_count": null,
   "metadata": {},
   "outputs": [],
   "source": [
    "def add(a,b):\n",
    "    return a+b"
   ]
  },
  {
   "cell_type": "markdown",
   "metadata": {},
   "source": [
    "#### Make a function that adds any number of things and returns the sum"
   ]
  },
  {
   "cell_type": "code",
   "execution_count": 35,
   "metadata": {},
   "outputs": [],
   "source": [
    "def add(*args):\n",
    "    return sum(args)"
   ]
  },
  {
   "cell_type": "code",
   "execution_count": 36,
   "metadata": {},
   "outputs": [
    {
     "data": {
      "text/plain": [
       "698"
      ]
     },
     "execution_count": 36,
     "metadata": {},
     "output_type": "execute_result"
    }
   ],
   "source": [
    "add(2,3)\n",
    "add(3,5,1,13,35,1,3,31,1,35,1,3,31,1,3,531)"
   ]
  },
  {
   "cell_type": "code",
   "execution_count": 37,
   "metadata": {},
   "outputs": [],
   "source": [
    "def funk(*args):\n",
    "    print(args, type(args))"
   ]
  },
  {
   "cell_type": "code",
   "execution_count": 38,
   "metadata": {},
   "outputs": [
    {
     "name": "stdout",
     "output_type": "stream",
     "text": [
      "(1, 2, 3) <class 'tuple'>\n"
     ]
    }
   ],
   "source": [
    "funk(1,2,3)"
   ]
  },
  {
   "cell_type": "code",
   "execution_count": 43,
   "metadata": {},
   "outputs": [
    {
     "name": "stdout",
     "output_type": "stream",
     "text": [
      "(1, 35, 13, 1, 3, 31, 1, 3, 5, 1, 3, 1, 1) <class 'tuple'>\n"
     ]
    }
   ],
   "source": [
    "funk(1,35,13,1,3,31,1,3,5,1,3,1,1)"
   ]
  },
  {
   "cell_type": "code",
   "execution_count": 8,
   "metadata": {},
   "outputs": [
    {
     "name": "stdout",
     "output_type": "stream",
     "text": [
      "ZeroDivisionError('division by zero',) <class 'ZeroDivisionError'>\n"
     ]
    }
   ],
   "source": [
    "try:\n",
    "    1 / 0\n",
    "    listy = [1,2,3,4,5, 55]\n",
    "    listy[100]\n",
    "    \n",
    "except IndexError:\n",
    "    print('ya dun goofd')\n",
    "except NameError:\n",
    "    print('watchyo name boi')\n",
    "except Exception as e:\n",
    "    print((e.__repr__()), type(e))"
   ]
  },
  {
   "cell_type": "markdown",
   "metadata": {},
   "source": [
    "# RANDOM CHOICES\n",
    "![](https://media.giphy.com/media/10CQOoOrvfpgbe/giphy.gif)"
   ]
  },
  {
   "cell_type": "code",
   "execution_count": 3,
   "metadata": {},
   "outputs": [
    {
     "data": {
      "text/plain": [
       "['a',\n",
       " 'b',\n",
       " 'c',\n",
       " 'd',\n",
       " 'e',\n",
       " 'f',\n",
       " 'g',\n",
       " 'h',\n",
       " 'i',\n",
       " 'j',\n",
       " 'k',\n",
       " 'l',\n",
       " 'm',\n",
       " 'n',\n",
       " 'o',\n",
       " 'p',\n",
       " 'q',\n",
       " 'r',\n",
       " 's',\n",
       " 't',\n",
       " 'u',\n",
       " 'v',\n",
       " 'w',\n",
       " 'x',\n",
       " 'y',\n",
       " 'z']"
      ]
     },
     "execution_count": 3,
     "metadata": {},
     "output_type": "execute_result"
    }
   ],
   "source": [
    "abcs = list('abcdefghijklmnopqrstuvwxyz')\n",
    "abcs"
   ]
  },
  {
   "cell_type": "code",
   "execution_count": 4,
   "metadata": {},
   "outputs": [],
   "source": [
    "import random"
   ]
  },
  {
   "cell_type": "code",
   "execution_count": 5,
   "metadata": {},
   "outputs": [
    {
     "name": "stdout",
     "output_type": "stream",
     "text": [
      "['jeby', 'ajlgvuvm', 'ysixjc', 'dwtx', 'fxzw', 'yksf', 'rlgcj', 'jvx', 'wuwvvtoo', 'rutq', 'ohmei', 'omwyjh', 'ckkcyxjy', 'flatsvjp', 'orfxigvr', 'xvlio', 'dufhvy', 'vmnbdw', 'zqwcfvr', 'ioywdd', 'xapydif', 'muwgpgf', 'gtojl', 'ubissd', 'nadijg', 'jdnuh', 'gxv', 'qzwajqr', 'vnck', 'iem', 'qwonnuy', 'emt', 'sgen', 'qutfn', 'omvsiy', 'pavsnctz', 'wrvk', 'cnawry', 'jqatqu', 'gdobc', 'ecrzzg', 'tiiqhsbu', 'xdlir', 'pwmshybs', 'mbeq', 'mvc', 'scj', 'bohyzi', 'ijlfx', 'wwnuzcw', 'hewrpfwv', 'ovmlhh', 'rccx', 'ziybvd', 'lwdf', 'bppqec', 'dxama', 'avlt', 'efzyiuh', 'gsu', 'wett', 'tvu', 'ilmefmq', 'rrwa', 'rjaups', 'kfrsarks', 'nxbtiqr', 'dtst', 'mjjmsa', 'ffytsbcj', 'yjm', 'kef', 'zuun', 'hvr', 'qdtz', 'wobahqq', 'anmlr', 'xqgmsb', 'virxh', 'gaxfe', 'trxofr', 'nbn', 'xjf', 'bzqf', 'bspiyndj', 'mje', 'fwl', 'tpzvh', 'xjpqueml', 'bcbt', 'mgneh', 'iys', 'quyrkck', 'ondixy', 'hkqfe', 'ncqtwuyh', 'bep', 'bdrzuxzg', 'sdzyfn', 'qta', 'apgs', 'bxqth', 'hpkuluu', 'mdwxcpy', 'fukjdt', 'ncgkrl', 'kwkwcqt', 'qcedtdd', 'vrkkj', 'vvfmc', 'nsqn', 'viel', 'unm', 'kvsdp', 'obkrmh', 'qqyfsv', 'ste', 'czosg', 'wndj', 'sxlutfx', 'vhadpic', 'hwrspy', 'enpibhr', 'grkpds', 'wfd', 'ybzrxy', 'vhyswitj', 'dahhk', 'jio', 'tswfmuj', 'upebnbz', 'acuo', 'jaysvlu', 'mxeba', 'voly', 'tfpw', 'bdyt', 'cfdvsvt', 'vrc', 'gcvu', 'tnozrpq', 'gmnxrg', 'ria', 'rta', 'ewkbrkfi', 'soc', 'kxrmdxt', 'czo', 'sxotfkb', 'vsc', 'fmlchsvx', 'qkhxb', 'ibyr', 'ronvmuj', 'chcalugz', 'uyyqx', 'otqdcn', 'vmy', 'gzcf', 'zmz', 'uxo', 'crz', 'mjoydx', 'oykn', 'ntin', 'zhmj', 'yzrbq', 'udzjvsp', 'kjjrimnw', 'brvn', 'muqna', 'cesqxi', 'jpnwve', 'pfbrhu', 'fyktqftz', 'xuedzoym', 'ocfh', 'weswcics', 'ohaorst', 'ruyykg', 'rwt', 'mlwtkssv', 'qex', 'liumfhm', 'tujrmx', 'jwzmnw', 'urkf', 'hqyno', 'jsoqtwh', 'cpk', 'dksi', 'mdv', 'pbjtwtbe', 'knysv', 'yektjtjz', 'rshvbk', 'hkrc', 'cmzmcxzj', 'ojiqhre', 'pkmdic', 'moyzite', 'bec', 'wvd', 'ygjbmogn', 'dsmr', 'tdn', 'uizqc', 'klnostz', 'ifrnnv', 'eimxky', 'enbp', 'nzvqyxo', 'xnqp', 'gyf', 'apvrqr', 'omvp', 'ewpvmp', 'jqcpiv', 'zpqie', 'rdtsg', 'xkvqc', 'clgu', 'jjw', 'ufmzflus', 'bnudjf', 'qmufyhs', 'jmgad', 'wpvjyduf', 'vzar', 'bzli', 'tfe', 'nywmstld', 'gprtjr', 'tbxhi', 'gdayhxc', 'qvrcfg', 'jjeoajw', 'ayuf', 'imszqkl', 'jtyb', 'toujx', 'upl', 'dkuy', 'ekibwm', 'otsenv', 'cjlp', 'tjksy', 'uhlak', 'crnypso', 'ytplkobq', 'susnikcn', 'msaym', 'cgsr', 'unkte', 'fuki', 'nghzggia', 'hmlag', 'modrh', 'ufvdkx', 'caiaq', 'hukct', 'lyqilg', 'vklwhgkk', 'djra', 'bxwxokvd', 'pddz', 'hmccw', 'jgm', 'vdcf', 'vbu', 'luza', 'izlxinr', 'buyoyw', 'nlkvm', 'uqqgpnn', 'hxkph', 'yknr', 'leurav', 'uqcyq', 'gskft', 'uifroxrx', 'eyva', 'flkwfq', 'jqa', 'bieg', 'fit', 'vnnqsj', 'lrqe', 'ontocot', 'ifztdds', 'oyhlvgc', 'xhagncb', 'fkshojh', 'qklx', 'wyklfrn', 'hftclj', 'efjz', 'ybgw', 'ixlwsdxp', 'lyvedd', 'jnzk', 'jsivyn', 'yjyz', 'msjoo', 'vovymilc', 'dnf', 'eenpwtuk', 'gao', 'xyshnk', 'gogri', 'dea', 'rvatkfm', 'sudsj', 'oitht', 'ybpkqbgn', 'spsghpz', 'vlsvcm', 'prsrdg', 'vji', 'xxlntes', 'gpbupa', 'vznnr', 'dti', 'dgs', 'qrzwxdgz', 'hrp', 'ahiaoner', 'auvebgga', 'xoc', 'scsx', 'stqd', 'wuirtibf', 'rmsnxad', 'xeucsnat', 'lvce', 'onfx', 'zpktrw', 'nhgz', 'umkj', 'muwda', 'cwonrgdx', 'ljyadczk', 'cjw', 'adhbrz', 'nznr', 'qikkrgzq', 'mibq', 'yqzd', 'qremdsoi', 'wnvsz', 'sun', 'cetudxn', 'scap', 'divuixv', 'rsl', 'qapp', 'ueqf', 'xissperd', 'ewp', 'xppcnd', 'lfp', 'ccogomd', 'xjv', 'hsafzo', 'yfaoek', 'ibuy', 'bpmgu', 'hxgtkxag', 'brczds', 'ljew', 'iksqext', 'cggros', 'phzcuum', 'xak', 'llfb', 'kzml', 'xazs', 'yehmgakd', 'ztgpmjfm', 'rsuwfusw', 'cvriurv', 'swdx', 'tydzizd', 'gxbmvln', 'gszejj', 'vbxpg', 'uaxcq', 'vfygj', 'iaiimblp', 'ncah', 'ezgftqmo', 'covdu', 'dlznge', 'umsexza', 'mkso', 'rwnngorh', 'dugcw', 'aejlxqkt', 'ppkvpwwm', 'bvm', 'toklqk', 'bwteut', 'hmmaugnd', 'kctwjay', 'xmizw', 'tsvqv', 'mmpscs', 'gvx', 'aoyniifn', 'xumasus', 'tjnq', 'tbl', 'ryr', 'nteloh', 'izhs', 'dbct', 'dpzxbwv', 'uqch', 'uuv', 'llv', 'bheq', 'sdmvwk', 'xgggey', 'xkmkfv', 'erhszn', 'vivagiun', 'zxjsz', 'wstbgqtd', 'zjj', 'vvn', 'qbjqhs', 'tusqcig', 'zfkabp', 'aefi', 'imfmbiox', 'vivexjm', 'ppobnjis', 'vmec', 'nqqwtakh', 'inmyh', 'pgt', 'urxqb', 'qpbla', 'hyejlx', 'qxk', 'kuni', 'zjamlhr', 'wxaoe', 'jfwndibo', 'mbertjb', 'iaxcdaw', 'sfjiu', 'qnwud', 'xqynuf', 'pyhdkve', 'vfssslcu', 'wyqxbzm', 'cxjtbe', 'yenkdq', 'izzr', 'vpjcudda', 'nenretno', 'ctmb', 'xtiigf', 'vdybh', 'eggi', 'elpzqz', 'yrn', 'cvrwijra', 'ovm', 'yzctg', 'jnlxehs', 'zmwypng', 'cqurvrw', 'lyilv', 'vcfxetyz', 'ajr', 'bxactw', 'utgckt', 'bqfpiv', 'shnbu', 'ven', 'bcpfa', 'shnxs', 'wod', 'mzqvtnbo', 'pmwwzc', 'hkccdd', 'gjw', 'qecywif', 'karvu', 'eui', 'avuk', 'fgwxyvzq', 'tqwpg', 'vapxe', 'izquxl', 'kfq', 'dnzbb', 'abybbljt', 'iiyp', 'vyt', 'xvljn', 'ivijkt', 'xsutfc', 'pcn', 'rnqhqg', 'xobhno', 'iohbqpwk', 'fnviyhs', 'glc', 'yqqbib', 'aijeu', 'iknguzm', 'nxg', 'cytq', 'wxxs', 'ebbdh', 'rmrxuth', 'gulkey', 'mhy', 'oarpiyxv', 'ydiw', 'snz', 'zindbnd', 'aggqn', 'tbn', 'amxhmif', 'bmg', 'mnnjxj', 'uui', 'tkxpq', 'zuwaw', 'sdl', 'isn', 'genqthm', 'qrhczsjg', 'bnspl', 'wwrlsxd', 'rpxudf', 'sllv', 'hbjig', 'txo', 'sldssigs', 'byuok', 'mchhfg', 'bmwy', 'bqoh', 'ljcvg', 'gldyfwp', 'bzukbju', 'qma', 'yyjmf', 'mbiz', 'vjrf', 'efmmrzqs', 'ymext', 'hsgb', 'hbgpl', 'prd', 'oqbzwntv', 'kgrat', 'cdjqfxgj', 'cijbgfqy', 'zjbsffs', 'iwijuw', 'eplilpi', 'xfjwxpd', 'mxtc', 'bfecr', 'vojpli', 'ukyr', 'fwbllyqs', 'msh', 'vblyw', 'cjav', 'clagn', 'vst', 'tzszxsna', 'yxwnac', 'jcgza', 'lsdg', 'fuc', 'yaiyuzmi', 'apldny', 'kur', 'rdy', 'rslwtr', 'azgxkf', 'shlvxuux', 'zmi', 'akhhe', 'ocjoemjd', 'zeshe', 'avurxxkr', 'vvbpfou', 'dkdhqzy', 'avoxb', 'mfg', 'dvmuzgf', 'uto', 'qhykuetn', 'jzusutux', 'arnakmdg', 'noknq', 'qrm', 'jzltnvy', 'nclkqtx', 'vwn', 'ntxg', 'uygfea', 'qiudqak', 'golqrnp', 'rwukiyf', 'ofpvb', 'gubwgqj', 'ehgbzqe', 'dathjjmz', 'fxb', 'cgj', 'xxiifcez', 'xhk', 'ijp', 'trohzjv', 'sslin', 'fzlyfr', 'oircdp', 'teroauq', 'fzdxgu', 'syogbb', 'wehb', 'zjfx', 'lecszgz', 'jpf', 'pxy', 'mgfkbess', 'laho', 'syv', 'ajxgy', 'pzfujyla', 'xtxfkl', 'mjpidnu', 'tirhm', 'mqh', 'nemso', 'ymbfn', 'hdqtngmx', 'qfnbb', 'qxm', 'cxw', 'jsvqaao', 'mldw', 'kay', 'embp', 'czs', 'qklfz', 'lgaybes', 'jibecu', 'guwwdwum', 'ejjvm', 'ugrd', 'gxwe', 'dmhx', 'esynlg', 'qaurv', 'cmoj', 'bzz', 'fzdawn', 'jhfx', 'cvjwai', 'taxw', 'yevfg', 'uoocrzk', 'eqkhwfq', 'xykirmym', 'xtwhlnqg', 'decbssd', 'huycy', 'vlt', 'fqul', 'ceds', 'rouxl', 'mbj', 'ntz', 'gpxhzbc', 'yerwi', 'njh', 'ovy', 'clqc', 'aumi', 'ohsmbt', 'kymfiy', 'nsr', 'tzzdv', 'jvlhv', 'zizqy', 'iiukdsxw', 'pxpus', 'ejmhm', 'jrjkfibb', 'rewj', 'bezwuiww', 'poq', 'jbltxvc', 'uvzh', 'uxj', 'wzgnpu', 'qghqd', 'sszdrt', 'qirq', 'mejsr', 'kgfmgdz', 'rcaztql', 'lrvrgjyw', 'hanrfy', 'bwkuypp', 'cxlvtamh', 'kzpyya', 'yzo', 'fke', 'dvg', 'edkavxrs', 'sasuwhk', 'lutasgm', 'zaur', 'jpgp', 'fxz', 'uqkokbml', 'bua', 'fzgbfkhj', 'uttxbld', 'nns', 'xskcz', 'zobo', 'msy', 'brlmulf', 'thj', 'wmbf', 'nwzo', 'dttxhh', 'poj', 'cmuk', 'lajkxed', 'jwyxnmj', 'vwwyyh', 'npmoc', 'eaw', 'zgbhlpai', 'qvtkxk', 'uabwmrv', 'dqc', 'zhgec', 'wis', 'duovee', 'ohxxrpm', 'tfzhynam', 'xye', 'lqrumwe', 'aoumg', 'arnkozx', 'nvkxw', 'rhdu', 'kyml', 'uuwuvngj', 'sey', 'buhyxdlk', 'yhhpedef', 'enervi', 'mxhqpj', 'tqyk', 'kmuddi', 'uhew', 'jxkke', 'gfbllewy', 'ftwrfhv', 'ljtsx', 'aeizoxzj', 'pouimv', 'svtq', 'jah', 'vbplsm', 'jxjtmc', 'vnqq', 'dsjiu', 'rrvxdzpw', 'sgachwjy', 'wyicne', 'tpmndz', 'sqqwrud', 'yrpseixk', 'jpq', 'cypgc', 'btywck', 'jcqff', 'zsuugxxq', 'tcotlzr', 'ozz', 'xvy', 'bjt', 'kuhmkvpi', 'hubrixmr', 'ojcjn', 'jbmhqnh', 'bhw', 'zksbyk', 'kqdpy', 'abyru', 'fjjptq', 'gntd', 'ntbgome', 'jilbkd', 'vdfm', 'plbkol', 'drs', 'uarmznmn', 'xivvl', 'idse', 'dottuic', 'qlbfobln', 'sfvowtxe', 'xsskw', 'ngjvdz', 'aykubyv', 'ebihus', 'iilff', 'ylyebqub', 'uufsb', 'hhuc', 'aytfq', 'jnstxmtk', 'dzc', 'kijafsm', 'sbwrkrrf', 'ivariy', 'ighvnksx', 'citje', 'tdkablvy', 'fqmpoda', 'jqchjzva', 'pufxxakt', 'hbjehmtj', 'ghrg', 'dalkawl', 'ionkyudc', 'kypt', 'psgxmkz', 'qnsy', 'wdmijpvr', 'tesbsn', 'mnxai', 'uyuaqje', 'pidhwxt', 'axx', 'bnywuufh', 'jyqoxiq', 'humezkuc', 'syj', 'rpugxsu', 'ghivu', 'tnc', 'wifp', 'nxw', 'bqwfd', 'gsp', 'dhatlq', 'snjgwahs', 'daz', 'mtbrr', 'jrubp', 'ifa', 'bzmhfihn', 'zvubrpi', 'pie', 'tkli', 'lfxxtljt', 'lia', 'mxllxhr', 'syyjvfo', 'bkimx', 'syobi', 'uly', 'spcrkmd', 'xbbwrvkt', 'zqfsgan', 'ywsmjqzc', 'pdnlbggh', 'xkbjq', 'rbjjslz', 'sptvy', 'yjtwl', 'ibkhbrn', 'ylac', 'vfztibki', 'uzykuji', 'jzirf', 'hmapuek', 'lqnxljj', 'bzspqje', 'dtu', 'abhw', 'vvki', 'zhilq', 'tgqxvc', 'ckugvae', 'zue', 'xhairm', 'ydjeaos', 'mirmdnx', 'eoaulx', 'gtgl', 'pgrgh', 'xtmmrw', 'doxbrmhn', 'jje', 'rthog', 'hqndiowe', 'ymnvrgfa', 'rgnknxvw', 'ijld', 'wrxz', 'tcxcftia', 'arfw', 'eja', 'eupqj', 'vvlfdgd', 'iwgp', 'jjghlp', 'zfvuhukq', 'swtw', 'clkucspn', 'nmytutqu', 'djrly', 'tiurvbkk', 'sozmk', 'imnyl', 'sln', 'cakfxs', 'qeoi', 'rhvh', 'lar', 'ynbf', 'biqt', 'jcbnuyzv', 'zwb', 'vjtvccs', 'avad', 'rpcko', 'avwmmerr', 'wvqbbgo', 'spmdbozd', 'soww', 'qflxkzv', 'kkctqhm', 'pltkdxec', 'pppi', 'snbemg', 'lfousdmb', 'pfkcmhh', 'aukecm', 'gscv', 'geth', 'dexidpr', 'ufcuqthr', 'uuxarlw', 'poy', 'uxytvw', 'bkx', 'ajse', 'xep', 'mvazhgoc', 'zvmnbscr', 'uwajz', 'tdjgqqnu', 'abpfjb', 'vgqn', 'uhpnx', 'xwyv', 'qzudri', 'zfqez', 'llmxbqxh', 'uqxwe', 'wjvjbwyp', 'ttcrelik', 'kjq', 'gschtt', 'gvfdct', 'hmzostx', 'nzmgs', 'qcwxhc', 'pplpqg', 'kdrlgc', 'fbu', 'wtrfmq', 'xnh', 'ahkey', 'qfrfh', 'dlnvcq', 'hfpaxpw', 'zxf', 'ddrdwwar']\n"
     ]
    }
   ],
   "source": [
    "check = []\n",
    "\n",
    "for _ in range(1000):\n",
    "    \n",
    "    word = ''\n",
    "    \n",
    "    for letter in range(random.randint(3,8)):\n",
    "        word += random.choice(abcs)\n",
    "        \n",
    "    check.append(word)\n",
    "print(check)"
   ]
  },
  {
   "cell_type": "code",
   "execution_count": 13,
   "metadata": {},
   "outputs": [
    {
     "name": "stdout",
     "output_type": "stream",
     "text": [
      "abcdef\n"
     ]
    }
   ],
   "source": [
    "print(\"abc\", end='')\n",
    "print('def')"
   ]
  },
  {
   "cell_type": "code",
   "execution_count": 14,
   "metadata": {},
   "outputs": [],
   "source": [
    "blah = []\n",
    "blah.append('abc')"
   ]
  },
  {
   "cell_type": "code",
   "execution_count": 15,
   "metadata": {},
   "outputs": [
    {
     "data": {
      "text/plain": [
       "['abc']"
      ]
     },
     "execution_count": 15,
     "metadata": {},
     "output_type": "execute_result"
    }
   ],
   "source": [
    "blah"
   ]
  },
  {
   "cell_type": "code",
   "execution_count": 16,
   "metadata": {},
   "outputs": [],
   "source": [
    "def check_dupes(listy):\n",
    "    \n",
    "    for h in listy:\n",
    "        \n",
    "        count = []\n",
    "    \n",
    "        # before for loop\n",
    "        \n",
    "        for i in listy:\n",
    "            \n",
    "            if h == i:\n",
    "                count.append(i)\n",
    "        \n",
    "        if len(count) > 1:\n",
    "            print(\"duplicate:\", count)"
   ]
  },
  {
   "cell_type": "code",
   "execution_count": 17,
   "metadata": {},
   "outputs": [],
   "source": [
    "for h in check:\n",
    "    if sum([h == i for i in check]) > 1:\n",
    "        print(h, 'has a duplicate')"
   ]
  },
  {
   "cell_type": "code",
   "execution_count": null,
   "metadata": {},
   "outputs": [],
   "source": [
    "#dupes = [[(h,i) for i in check] for h in check]\n",
    "#dupes"
   ]
  },
  {
   "cell_type": "code",
   "execution_count": null,
   "metadata": {},
   "outputs": [],
   "source": [
    "check_dupes(check)"
   ]
  },
  {
   "cell_type": "code",
   "execution_count": 96,
   "metadata": {},
   "outputs": [
    {
     "data": {
      "text/plain": [
       "True"
      ]
     },
     "execution_count": 96,
     "metadata": {},
     "output_type": "execute_result"
    }
   ],
   "source": [
    "True == 1"
   ]
  },
  {
   "cell_type": "code",
   "execution_count": 73,
   "metadata": {},
   "outputs": [
    {
     "name": "stdout",
     "output_type": "stream",
     "text": [
      "1\n",
      "2\n",
      "3\n",
      "4\n",
      "5\n",
      "after 5\n"
     ]
    }
   ],
   "source": [
    "for a in [1,2,3,4,5]:\n",
    "    print(a)\n",
    "print('after', a)"
   ]
  },
  {
   "cell_type": "code",
   "execution_count": 101,
   "metadata": {},
   "outputs": [],
   "source": [
    "xlist = []\n",
    "for i in [1,2,3,4,5]:\n",
    "    xlist.append(h==i)"
   ]
  },
  {
   "cell_type": "code",
   "execution_count": 102,
   "metadata": {},
   "outputs": [],
   "source": [
    "ylist = [(True) for i in [1,2,3,4,5] if h==i]"
   ]
  },
  {
   "cell_type": "code",
   "execution_count": 5,
   "metadata": {},
   "outputs": [
    {
     "data": {
      "text/plain": [
       "builtin_function_or_method"
      ]
     },
     "execution_count": 5,
     "metadata": {},
     "output_type": "execute_result"
    }
   ],
   "source": [
    "import time\n",
    "type(time.time)"
   ]
  },
  {
   "cell_type": "markdown",
   "metadata": {},
   "source": [
    "![WOW](https://media.giphy.com/media/xT0xeJpnrWC4XWblEk/giphy.gif)\n",
    "# END OF CLASS"
   ]
  },
  {
   "cell_type": "code",
   "execution_count": null,
   "metadata": {},
   "outputs": [],
   "source": []
  }
 ],
 "metadata": {
  "kernelspec": {
   "display_name": "Python 3",
   "language": "python",
   "name": "python3"
  },
  "language_info": {
   "codemirror_mode": {
    "name": "ipython",
    "version": 3
   },
   "file_extension": ".py",
   "mimetype": "text/x-python",
   "name": "python",
   "nbconvert_exporter": "python",
   "pygments_lexer": "ipython3",
   "version": "3.6.5"
  }
 },
 "nbformat": 4,
 "nbformat_minor": 2
}
