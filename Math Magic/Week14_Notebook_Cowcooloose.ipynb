{
 "cells": [
  {
   "cell_type": "markdown",
   "metadata": {},
   "source": [
    "***Welcome to Cowcooloose***,\n",
    "\n",
    "Here we will learn how cows are cool and often loosely correlated to math.\n",
    "```\n",
    "                                       /;    ;\\\n",
    "                                   __  \\____//\n",
    "                                  /{_\\_/   `'\\____\n",
    "                                  \\___ ---(=)--(=)--}\n",
    "       _____________________________/          :--'\n",
    "   ,-,'`@@@@@@@@       @@@@@@         \\_    `__\\\n",
    "  ;:(  @@@@@@@@@        @@@             \\___(o'o)\n",
    "  :: )  @@@@          @@@@@@        ,'@@(  `===='\n",
    "  :: : @@@@@:          @@@@         `@@@:\n",
    "  :: \\  @@@@@:       @@@@@@@)    (  '@@@'\n",
    "  ;; /\\      /`,    @@@@@@@@@\\\\   :@@@@@)\n",
    "  ::/  )    {_----------------:  :~`, ;\n",
    " ;;'`; :   )                  :  / `; ;\n",
    ";;;; : :   ;                  :  ;  ; :\n",
    "`'`' / :  :                   :  :  : :\n",
    "    )_ \\__;      \";\"          :_ ;  \\_\\       `,','\n",
    "    :__\\  \\    * `,'*         \\  \\  :  \\   *  8`;'*  *\n",
    "        `^'     \\ :/           `^'  `-^-'   \\v/ :  \\/   -Bill Ames-     \n",
    "```"
   ]
  },
  {
   "cell_type": "markdown",
   "metadata": {},
   "source": [
    "A cow walks 3.2 miles in 1.5 hours, hungry for the patch of grass ahead\n",
    "What is the speed of the cow in \"mi/h\"?\n",
    "\n",
    "Cows like imperial units btw... Weirdos..."
   ]
  },
  {
   "cell_type": "code",
   "execution_count": 5,
   "metadata": {},
   "outputs": [
    {
     "name": "stdout",
     "output_type": "stream",
     "text": [
      "The cow walks at 2.1333333333333333 mi per hour\n"
     ]
    }
   ],
   "source": [
    "''' since dist = 3.2, and time = 1.5, and speed = distance / time '''\n",
    "\n",
    "dist = 3.2\n",
    "time = 1.5\n",
    "\n",
    "speed = dist / time\n",
    "\n",
    "print('The cow walks at', speed, 'mi per hour')"
   ]
  },
  {
   "cell_type": "markdown",
   "metadata": {},
   "source": [
    "----\n",
    "----\n",
    "Now, what if as the cow walked, she *accelerated* (she's in a rush you see).\n",
    "\n",
    "\n",
    "If she sped up 1.2 mi per hour per hour, how fast is she going in 2 hrs?"
   ]
  },
  {
   "cell_type": "code",
   "execution_count": 6,
   "metadata": {},
   "outputs": [
    {
     "name": "stdout",
     "output_type": "stream",
     "text": [
      "The cow walks at 4.533333333333333 mi per hour after 2.0 hours\n"
     ]
    }
   ],
   "source": [
    "accel = 1.2  # mi/hr per hr\n",
    "time  = 2.0\n",
    "\n",
    "speed = speed + accel * time  # mi/hr + (mi/hr)/hr * hr\n",
    "\n",
    "print('The cow walks at', speed, 'mi per hour after', time, 'hours')"
   ]
  },
  {
   "cell_type": "markdown",
   "metadata": {},
   "source": [
    "Now, more realistically, the cow will *oscillate* in speed...\n",
    "\n",
    "Let's use sine ```y = sin(x)``` to model how she changes speed...\n",
    "\n",
    "**So, let's try**    ```speed = 2 * sin(time / 2) + 2```\n",
    "\n",
    "**IMPORTANT** Change of units for time, let time be in MINUTES\n",
    "\n",
    "*... What does that look like on a graph?*"
   ]
  },
  {
   "cell_type": "code",
   "execution_count": 7,
   "metadata": {},
   "outputs": [],
   "source": [
    "import sympy\n",
    "import numpy as np\n",
    "import matplotlib.pyplot as plt\n",
    "\n",
    "time = sympy.symbols('time')\n",
    "speed = 2 * sympy.sin(time / 2) + 2\n",
    "\n",
    "# lamdify() is a great function.\n",
    "# It turns sympy \"symbolic\" functions into real ones that can be USED!\n",
    "speed_numpy = sympy.lambdify( time,  # speed(time)\n",
    "                              speed, # speed function (symbolic)\n",
    "                  modules=['numpy']  # use numpy's functions to make it real\n",
    "                )"
   ]
  },
  {
   "cell_type": "code",
   "execution_count": 10,
   "metadata": {},
   "outputs": [
    {
     "data": {
      "image/png": "[encoded data removed]",
      "text/plain": [
       "<Figure size 432x288 with 1 Axes>"
      ]
     },
     "metadata": {},
     "output_type": "display_data"
    }
   ],
   "source": [
    "time_walking = 60.0 # spend 60 minutes walking\n",
    "times = np.linspace(0, time_walking, 200) # make 100 points between 0 and 60 min\n",
    "speeds = speed_numpy(times) # make 100 speeds at each time in times\n",
    "\n",
    "plt.plot(times, speeds)\n",
    "plt.xlabel(\"Time [minutes]\")\n",
    "plt.ylabel(\"Cow Speed [mi/h]\")\n",
    "plt.show()"
   ]
  },
  {
   "cell_type": "markdown",
   "metadata": {},
   "source": [
    "A trickier one now... \n",
    "\n",
    "**How FAR does she walk in 60 minutes at this\n",
    "alternating speed?**\n",
    "\n",
    "*This is impossible to get perfect without calculus btw...*"
   ]
  },
  {
   "cell_type": "markdown",
   "metadata": {},
   "source": [
    "----\n",
    "----\n",
    "\n",
    "**To do this, basically we do this:**\n",
    "\n",
    "Figure out the **Integral of Speed between time = 0 and time = 60**\n",
    "\n",
    "- *What does that mean?*\n",
    "\n",
    "In a nutshell it means to do this:\n",
    "\n",
    "- for a ton of tiny slices of time (like really small, seriously):\n",
    "    get the speed value at the start of that time slice\n",
    "\n",
    "\n",
    "- take the `speed * the width of the time slice`\n",
    "    (essentially get the area of the rectangle...\n",
    "    (see whiteboard explanation for details))\n",
    "\n",
    "\n",
    "- add that `speed*timewidth` to a running total of areas\n",
    "\n",
    "\n",
    "- at the end, the **total area gathered** will be the amount of **distance covered in that time**...\n",
    "\n",
    "**Isn't that kind of crazy?**\n",
    "\n",
    "----\n",
    "\n",
    "None of that actually matters, in practice, though.\n",
    "\n",
    "All you have to do is this: "
   ]
  },
  {
   "cell_type": "code",
   "execution_count": 11,
   "metadata": {},
   "outputs": [],
   "source": [
    "# Remember, we already defined speed and time up above when we plotted\n",
    "distance = sympy.integrate(speed, (time, 0, time_walking) )\n",
    "\n",
    "# Evaluate result into a float (decimal number)\n",
    "distance_walked = distance.evalf()"
   ]
  },
  {
   "cell_type": "code",
   "execution_count": 12,
   "metadata": {},
   "outputs": [
    {
     "name": "stdout",
     "output_type": "stream",
     "text": [
      "The cow walks a grand total of 123.382994200450 miles in 60.0 minutes\n",
      "That's a fast cow!\n",
      "The cow's distance function is: 2*time - 4*cos(time/2)\n"
     ]
    }
   ],
   "source": [
    "print('The cow walks a grand total of', distance_walked, 'miles in',\n",
    "                                        time_walking, 'minutes')\n",
    "\n",
    "print(\"That's a fast cow!\")\n",
    "\n",
    "print(\"The cow's distance function is:\", sympy.integrate(speed, time))"
   ]
  }
 ],
 "metadata": {
  "kernelspec": {
   "display_name": "Python 3",
   "language": "python",
   "name": "python3"
  },
  "language_info": {
   "codemirror_mode": {
    "name": "ipython",
    "version": 3
   },
   "file_extension": ".py",
   "mimetype": "text/x-python",
   "name": "python",
   "nbconvert_exporter": "python",
   "pygments_lexer": "ipython3",
   "version": "3.6.5"
  }
 },
 "nbformat": 4,
 "nbformat_minor": 2
}
