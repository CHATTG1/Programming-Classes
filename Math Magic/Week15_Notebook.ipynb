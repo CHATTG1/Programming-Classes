{
 "cells": [
  {
   "cell_type": "markdown",
   "metadata": {},
   "source": [
    "# YO WHADDUP BRO LET'S DO SOME CALCULUS\n",
    "\n",
    "![lolwut](https://media.giphy.com/media/vFKqnCdLPNOKc/giphy.gif)\n",
    "\n",
    "Remember last time, we talked about how cows are cool and often loosely correlated to math?\n",
    "```\n",
    "                                       /;    ;\\\n",
    "                                   __  \\____//\n",
    "                                  /{_\\_/   `'\\____\n",
    "                                  \\___ ---(=)--(=)--}\n",
    "       _____________________________/          :--'\n",
    "   ,-,'`@@@@@@@@       @@@@@@         \\_    `__\\\n",
    "  ;:(  @@@@@@@@@        @@@             \\___(o'o)\n",
    "  :: )  @@@@          @@@@@@        ,'@@(  `===='\n",
    "  :: : @@@@@:          @@@@         `@@@:\n",
    "  :: \\  @@@@@:       @@@@@@@)    (  '@@@'\n",
    "  ;; /\\      /`,    @@@@@@@@@\\\\   :@@@@@)\n",
    "  ::/  )    {_----------------:  :~`, ;\n",
    " ;;'`; :   )                  :  / `; ;\n",
    ";;;; : :   ;                  :  ;  ; :\n",
    "`'`' / :  :                   :  :  : :\n",
    "    )_ \\__;      \";\"          :_ ;  \\_\\       `,','\n",
    "    :__\\  \\    * `,'*         \\  \\  :  \\   *  8`;'*  *\n",
    "        `^'     \\ :/           `^'  `-^-'   \\v/ :  \\/   -Bill Ames-     \n",
    "```"
   ]
  },
  {
   "cell_type": "code",
   "execution_count": 1,
   "metadata": {},
   "outputs": [],
   "source": [
    "import matplotlib.pyplot as plt\n",
    "import numpy as np\n",
    "import sympy"
   ]
  },
  {
   "cell_type": "markdown",
   "metadata": {},
   "source": [
    "Well, this time we're going to go deeper. So let's begin ***with a few questions***\n",
    "\n",
    "# What do we mean by the phrase \"rate of change\"?\n"
   ]
  },
  {
   "cell_type": "code",
   "execution_count": null,
   "metadata": {},
   "outputs": [],
   "source": [
    "\"\"\" The change of change \"\"\""
   ]
  },
  {
   "cell_type": "markdown",
   "metadata": {},
   "source": [
    "# What do we call the \"rate of change\" of position?"
   ]
  },
  {
   "cell_type": "code",
   "execution_count": null,
   "metadata": {},
   "outputs": [],
   "source": [
    "\"\"\" velocity / speed \"\"\""
   ]
  },
  {
   "cell_type": "markdown",
   "metadata": {},
   "source": [
    "# What do we call the \"rate of change\" of velocity/speed?"
   ]
  },
  {
   "cell_type": "code",
   "execution_count": 2,
   "metadata": {},
   "outputs": [
    {
     "data": {
      "text/plain": [
       "' acceleration '"
      ]
     },
     "execution_count": 2,
     "metadata": {},
     "output_type": "execute_result"
    }
   ],
   "source": [
    "\"\"\" acceleration \"\"\""
   ]
  },
  {
   "cell_type": "markdown",
   "metadata": {},
   "source": [
    "![SPEED](https://media.giphy.com/media/3o7TKKhjIXevRnOKWY/giphy.gif)"
   ]
  },
  {
   "cell_type": "markdown",
   "metadata": {},
   "source": [
    "Finally,\n",
    "# What 1-word definition can we use for the phrase \"rate of change\"?"
   ]
  },
  {
   "cell_type": "markdown",
   "metadata": {},
   "source": [
    "Whatever you chose, TOO BAD ***HAHAHAHA***, we are going to use a term clearly invented by mathematicians:\n",
    "    \n",
    "## The DERIVATIVE == \"The rate of change\"\n",
    "\n",
    "![You followin me?](https://media.giphy.com/media/WuGSL4LFUMQU/giphy.gif)"
   ]
  },
  {
   "cell_type": "markdown",
   "metadata": {},
   "source": [
    "And, even more specifically\n",
    "\n",
    "***Suppose we have a function we call \"f\", taking an input \"x\" because we have no imagination***:\n",
    "## $f(x)$\n",
    "\n",
    "***The DERIVATIVE of f with respect to x == \"The rate of change of f as x changes\"***:\n",
    "## $\\frac{df(x)}{dx} = f'(x)$"
   ]
  },
  {
   "cell_type": "markdown",
   "metadata": {},
   "source": [
    "#### There are also higher derivatives, like the 2nd and 3rd and Nth derivative:\n",
    "\n",
    "## $\\frac{df^2(x)}{dx}  = f''(x)$\n",
    "## $\\frac{df^3(x)}{dx}  = f'''(x)$\n",
    "## $\\frac{df^n(x)}{dx}  = f^n(x)$ for any $n$\n",
    "\n",
    "#### When taking these derivatives from position, like we were saying earlier:\n",
    "## $x(t) = position$\n",
    "## $\\frac{dx(t)}{dt}  = x'(t) = velocity$\n",
    "## $\\frac{dx^2(t)}{dt}  = x''(t) = acceleration$\n",
    "## $\\frac{dx^3(t)}{dt}  = x'''(t) = jerk$\n",
    "## $\\frac{dx^4(t)}{dt}  = x''''(t) = jounce$\n",
    "## $\\frac{dx^5(t)}{dt}  = x'''''(t) = snap$\n",
    "## $\\frac{dx^6(t)}{dt}  = x''''''(t) = crackle$\n",
    "## $\\frac{dx^7(t)}{dt}  = x'''''''(t) = pop$\n",
    "## $\\frac{dx^8(t)}{dt}  = x''''''''(t) = lock$\n",
    "## $\\frac{dx^9(t)}{dt}  = x''''''''(t) = drop$"
   ]
  },
  {
   "cell_type": "markdown",
   "metadata": {},
   "source": [
    "![wayne](https://media.giphy.com/media/Hf61JhIufsQTe/giphy.gif)"
   ]
  },
  {
   "cell_type": "markdown",
   "metadata": {},
   "source": [
    "# Quick example! \n",
    "- We have a function sin(x) / x telling us the position of a pendulum over time\n",
    "- Let's see what it's speed graph looks like\n",
    "- And also it's acceleration graph!"
   ]
  },
  {
   "cell_type": "code",
   "execution_count": 29,
   "metadata": {},
   "outputs": [
    {
     "data": {
      "text/plain": [
       "Text(0,0.5,'position!')"
      ]
     },
     "execution_count": 29,
     "metadata": {},
     "output_type": "execute_result"
    },
    {
     "data": {
      "image/png": "[encoded data removed]",
      "text/plain": [
       "<Figure size 432x288 with 1 Axes>"
      ]
     },
     "metadata": {},
     "output_type": "display_data"
    }
   ],
   "source": [
    "# create a \"symbol\" called \"t\", for time (think of this like writing \"t\" on a piece of paper)\n",
    "t = sympy.Symbol('t') \n",
    "\n",
    "# sympy.exp IS the e to the power of x function. \"exp\" = e**x\n",
    "g = 0.1\n",
    "r = 3\n",
    "position = -(g * t**r - 1)**2 + 1\n",
    "\n",
    "tvals = np.linspace(1, 2.8,1000)\n",
    "\n",
    "velocity     = sympy.lambdify(t, sympy.diff(position, t), modules=['numpy'])\n",
    "acceleration = sympy.lambdify(t, sympy.diff(sympy.diff(position, t), t), modules=['numpy'])\n",
    "\n",
    "pos_call     = sympy.lambdify(t, position, modules=['numpy'])\n",
    "\n",
    "plt.plot(tvals, pos_call(tvals))\n",
    "plt.xlabel('x axis')\n",
    "plt.ylabel('position!')"
   ]
  },
  {
   "cell_type": "code",
   "execution_count": 31,
   "metadata": {},
   "outputs": [
    {
     "data": {
      "text/plain": [
       "Text(0,0.5,'velocity!')"
      ]
     },
     "execution_count": 31,
     "metadata": {},
     "output_type": "execute_result"
    },
    {
     "data": {
      "image/png": "[encoded data removed]",
      "text/plain": [
       "<Figure size 432x288 with 1 Axes>"
      ]
     },
     "metadata": {},
     "output_type": "display_data"
    }
   ],
   "source": [
    "plt.plot(tvals, velocity(tvals))\n",
    "plt.xlabel('x axis')\n",
    "plt.ylabel('velocity!')"
   ]
  },
  {
   "cell_type": "code",
   "execution_count": 33,
   "metadata": {},
   "outputs": [
    {
     "data": {
      "text/plain": [
       "Text(0,0.5,'acceleration!')"
      ]
     },
     "execution_count": 33,
     "metadata": {},
     "output_type": "execute_result"
    },
    {
     "data": {
      "image/png": "[encoded data removed]",
      "text/plain": [
       "<Figure size 432x288 with 1 Axes>"
      ]
     },
     "metadata": {},
     "output_type": "display_data"
    }
   ],
   "source": [
    "plt.plot(tvals, acceleration(tvals))\n",
    "plt.xlabel('x axis')\n",
    "plt.ylabel('acceleration!')"
   ]
  },
  {
   "cell_type": "markdown",
   "metadata": {},
   "source": [
    "#### Now, I want you to try and graph the \"jerk\", and the \"jounce\" as well"
   ]
  },
  {
   "cell_type": "code",
   "execution_count": 34,
   "metadata": {},
   "outputs": [
    {
     "data": {
      "text/plain": [
       "Text(0,0.5,'jerk!')"
      ]
     },
     "execution_count": 34,
     "metadata": {},
     "output_type": "execute_result"
    },
    {
     "data": {
      "image/png": "[encoded data removed]",
      "text/plain": [
       "<Figure size 432x288 with 1 Axes>"
      ]
     },
     "metadata": {},
     "output_type": "display_data"
    }
   ],
   "source": [
    "\n",
    "\n",
    "# PUT YOUR CODE HERE!\n",
    "jerk = sympy.lambdify(t, sympy.diff( \n",
    "                                sympy.diff(\n",
    "                                            sympy.diff(position, t), t) , t), modules=['numpy'])\n",
    "\n",
    "jounce = sympy.lambdify(t, sympy.diff( \n",
    "                                sympy.diff( \n",
    "                                    sympy.diff(\n",
    "                                            sympy.diff(position, t), t) , t), t), modules=['numpy'])\n",
    "\n",
    "plt.plot(tvals, jerk(tvals))\n",
    "plt.xlabel('x axis')\n",
    "plt.ylabel('jerk!')"
   ]
  },
  {
   "cell_type": "code",
   "execution_count": 35,
   "metadata": {},
   "outputs": [
    {
     "data": {
      "text/plain": [
       "Text(0,0.5,'jounce!')"
      ]
     },
     "execution_count": 35,
     "metadata": {},
     "output_type": "execute_result"
    },
    {
     "data": {
      "image/png": "[encoded data removed]",
      "text/plain": [
       "<Figure size 432x288 with 1 Axes>"
      ]
     },
     "metadata": {},
     "output_type": "display_data"
    }
   ],
   "source": [
    "plt.plot(tvals, jounce(tvals))\n",
    "plt.xlabel('x axis')\n",
    "plt.ylabel('jounce!')"
   ]
  },
  {
   "cell_type": "markdown",
   "metadata": {},
   "source": [
    "----\n",
    "----\n",
    "# Now, let's meet a new number:\n",
    "\n",
    "- Like $\\pi$, this number is \"transcendental\"...\n",
    "- It never repeats in any macro or micro structure, as far as ever examined\n",
    "\n",
    "It is:\n",
    "## $ e  \\approx 2.71$\n",
    "\n",
    "***And I have a confession... ***\n",
    "\n",
    "![Confession](https://media.giphy.com/media/Jlt69Ka6SwtH2/giphy.gif)"
   ]
  },
  {
   "cell_type": "code",
   "execution_count": 43,
   "metadata": {},
   "outputs": [
    {
     "data": {
      "text/plain": [
       "7.3890560989306495"
      ]
     },
     "execution_count": 43,
     "metadata": {},
     "output_type": "execute_result"
    }
   ],
   "source": [
    "import numpy as np\n",
    "np.e * np.e"
   ]
  },
  {
   "cell_type": "markdown",
   "metadata": {},
   "source": [
    "# Now, let's meet a new function, using $e$:\n",
    "\n",
    "# $f(x) = e^x$\n",
    "\n",
    "#### On a graph, it looks like this..."
   ]
  },
  {
   "cell_type": "code",
   "execution_count": 44,
   "metadata": {},
   "outputs": [],
   "source": [
    "x = sympy.Symbol('x')  # create a \"symbol\" called \"x\" (think of this like writing \"x\" on a piece of paper)\n",
    "function = sympy.exp(x)  # sympy.exp IS the e to the power of x function. \"exp\" = e**x"
   ]
  },
  {
   "cell_type": "code",
   "execution_count": 45,
   "metadata": {},
   "outputs": [
    {
     "data": {
      "text/plain": [
       "Text(0,0.5,'y = f(x) axis')"
      ]
     },
     "execution_count": 45,
     "metadata": {},
     "output_type": "execute_result"
    },
    {
     "data": {
      "image/png": "[encoded data removed]",
      "text/plain": [
       "<Figure size 432x288 with 1 Axes>"
      ]
     },
     "metadata": {},
     "output_type": "display_data"
    }
   ],
   "source": [
    "xvals = np.linspace(-1,1,100)\n",
    "use_function = sympy.lambdify(x, function, modules=['numpy'])\n",
    "plt.plot(xvals, use_function(xvals))\n",
    "plt.xlabel('x axis')\n",
    "plt.ylabel('y = f(x) axis')"
   ]
  },
  {
   "cell_type": "markdown",
   "metadata": {},
   "source": [
    "# Now, let's use our new knowledge of derivatives to see \"how fast\" $e^x$ changes! \n",
    "## In writing:\n",
    "\n",
    "## $\\frac{df(x)}{dx} = \\frac{d}{dx} (e^x)$"
   ]
  },
  {
   "cell_type": "code",
   "execution_count": 46,
   "metadata": {},
   "outputs": [
    {
     "ename": "NameError",
     "evalue": "name 'expression' is not defined",
     "output_type": "error",
     "traceback": [
      "\u001b[0;31m---------------------------------------------------------------------------\u001b[0m",
      "\u001b[0;31mNameError\u001b[0m                                 Traceback (most recent call last)",
      "\u001b[0;32m<ipython-input-46-7c66993e2a9e>\u001b[0m in \u001b[0;36m<module>\u001b[0;34m()\u001b[0m\n\u001b[1;32m      1\u001b[0m \u001b[0;31m# In code:\u001b[0m\u001b[0;34m\u001b[0m\u001b[0;34m\u001b[0m\u001b[0m\n\u001b[0;32m----> 2\u001b[0;31m \u001b[0mderivative\u001b[0m \u001b[0;34m=\u001b[0m \u001b[0msympy\u001b[0m\u001b[0;34m.\u001b[0m\u001b[0mdiff\u001b[0m\u001b[0;34m(\u001b[0m\u001b[0mexpression\u001b[0m\u001b[0;34m,\u001b[0m \u001b[0mx\u001b[0m\u001b[0;34m)\u001b[0m  \u001b[0;31m# let sympy do the work of taking the derivative of e to the x\u001b[0m\u001b[0;34m\u001b[0m\u001b[0m\n\u001b[0m",
      "\u001b[0;31mNameError\u001b[0m: name 'expression' is not defined"
     ]
    }
   ],
   "source": [
    "# In code:\n",
    "derivative = sympy.diff(expression, x)  # let sympy do the work of taking the derivative of e to the x"
   ]
  },
  {
   "cell_type": "code",
   "execution_count": 42,
   "metadata": {},
   "outputs": [
    {
     "ename": "NameError",
     "evalue": "name 'derivative' is not defined",
     "output_type": "error",
     "traceback": [
      "\u001b[0;31m---------------------------------------------------------------------------\u001b[0m",
      "\u001b[0;31mNameError\u001b[0m                                 Traceback (most recent call last)",
      "\u001b[0;32m<ipython-input-42-42a26a5151b5>\u001b[0m in \u001b[0;36m<module>\u001b[0;34m()\u001b[0m\n\u001b[0;32m----> 1\u001b[0;31m \u001b[0mderivative\u001b[0m\u001b[0;34m\u001b[0m\u001b[0m\n\u001b[0m",
      "\u001b[0;31mNameError\u001b[0m: name 'derivative' is not defined"
     ]
    }
   ],
   "source": [
    "derivative"
   ]
  },
  {
   "cell_type": "markdown",
   "metadata": {},
   "source": [
    "# Wait.... What? Do you see what happened?\n",
    "\n",
    "#### Let's try this again..."
   ]
  },
  {
   "cell_type": "code",
   "execution_count": 47,
   "metadata": {},
   "outputs": [
    {
     "data": {
      "text/plain": [
       "exp(x)"
      ]
     },
     "execution_count": 47,
     "metadata": {},
     "output_type": "execute_result"
    }
   ],
   "source": [
    "# In code:\n",
    "derivative = sympy.diff(function, x)  # let sympy do the work of taking the derivative of e to the x\n",
    "derivative"
   ]
  },
  {
   "cell_type": "markdown",
   "metadata": {},
   "source": [
    "![Dejavu](https://thumbs.gfycat.com/NervousIckyDog-size_restricted.gif)\n",
    "\n",
    "#### What if... We take the derivative of the derivative?\n",
    "- This is called the \"second derivative\""
   ]
  },
  {
   "cell_type": "code",
   "execution_count": 48,
   "metadata": {},
   "outputs": [
    {
     "data": {
      "text/plain": [
       "exp(x)"
      ]
     },
     "execution_count": 48,
     "metadata": {},
     "output_type": "execute_result"
    }
   ],
   "source": [
    "# In code:\n",
    "derivative = sympy.diff(sympy.diff(function, x), x)  # let sympy do the work of taking the derivative of e to the x\n",
    "derivative"
   ]
  },
  {
   "cell_type": "markdown",
   "metadata": {},
   "source": [
    "#### And again?"
   ]
  },
  {
   "cell_type": "code",
   "execution_count": 49,
   "metadata": {},
   "outputs": [
    {
     "data": {
      "text/plain": [
       "exp(x)"
      ]
     },
     "execution_count": 49,
     "metadata": {},
     "output_type": "execute_result"
    }
   ],
   "source": [
    "# In code:\n",
    "derivative = sympy.diff(sympy.diff(sympy.diff(derivative, x),x),x)  # let sympy do the work of taking the derivative of e to the x\n",
    "derivative"
   ]
  },
  {
   "cell_type": "markdown",
   "metadata": {},
   "source": [
    "# FYI, this is the part where your mind explodes\n",
    "![BOOM](https://media.giphy.com/media/118iREvgcoh3oI/giphy.gif)\n",
    "![BOOOOM](https://media.giphy.com/media/26ufdipQqU2lhNA4g/giphy.gif)"
   ]
  },
  {
   "cell_type": "markdown",
   "metadata": {},
   "source": [
    "# ICYMI, the derivative of this..."
   ]
  },
  {
   "cell_type": "code",
   "execution_count": 50,
   "metadata": {},
   "outputs": [
    {
     "data": {
      "text/plain": [
       "Text(0,0.5,'y = f(x) axis')"
      ]
     },
     "execution_count": 50,
     "metadata": {},
     "output_type": "execute_result"
    },
    {
     "data": {
      "image/png": "[encoded data removed]",
      "text/plain": [
       "<Figure size 432x288 with 1 Axes>"
      ]
     },
     "metadata": {},
     "output_type": "display_data"
    }
   ],
   "source": [
    "xvals = np.linspace(-1,1,100)\n",
    "use_function = sympy.lambdify(x, function, modules=['numpy'])\n",
    "plt.plot(xvals, use_function(xvals))\n",
    "plt.xlabel('x axis')\n",
    "plt.ylabel('y = f(x) axis')"
   ]
  },
  {
   "cell_type": "markdown",
   "metadata": {},
   "source": [
    "# Is this..."
   ]
  },
  {
   "cell_type": "code",
   "execution_count": 51,
   "metadata": {},
   "outputs": [
    {
     "data": {
      "text/plain": [
       "Text(0,0.5,'y = f(x) axis')"
      ]
     },
     "execution_count": 51,
     "metadata": {},
     "output_type": "execute_result"
    },
    {
     "data": {
      "image/png": "[encoded data removed]",
      "text/plain": [
       "<Figure size 432x288 with 1 Axes>"
      ]
     },
     "metadata": {},
     "output_type": "display_data"
    }
   ],
   "source": [
    "xvals = np.linspace(-1,1,100)\n",
    "use_derivative = sympy.lambdify(x, derivative, modules=['numpy'])\n",
    "plt.plot(xvals, use_function(xvals))\n",
    "plt.xlabel('x axis')\n",
    "plt.ylabel('y = f(x) axis')"
   ]
  },
  {
   "cell_type": "code",
   "execution_count": null,
   "metadata": {},
   "outputs": [],
   "source": []
  },
  {
   "cell_type": "code",
   "execution_count": null,
   "metadata": {},
   "outputs": [],
   "source": []
  },
  {
   "cell_type": "code",
   "execution_count": null,
   "metadata": {},
   "outputs": [],
   "source": []
  },
  {
   "cell_type": "code",
   "execution_count": null,
   "metadata": {},
   "outputs": [],
   "source": []
  },
  {
   "cell_type": "code",
   "execution_count": null,
   "metadata": {},
   "outputs": [],
   "source": []
  }
 ],
 "metadata": {
  "kernelspec": {
   "display_name": "Python 3",
   "language": "python",
   "name": "python3"
  },
  "language_info": {
   "codemirror_mode": {
    "name": "ipython",
    "version": 3
   },
   "file_extension": ".py",
   "mimetype": "text/x-python",
   "name": "python",
   "nbconvert_exporter": "python",
   "pygments_lexer": "ipython3",
   "version": "3.6.5"
  }
 },
 "nbformat": 4,
 "nbformat_minor": 2
}
