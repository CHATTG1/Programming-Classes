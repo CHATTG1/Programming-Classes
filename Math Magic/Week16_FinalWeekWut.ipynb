{
 "cells": [
  {
   "cell_type": "code",
   "execution_count": 3,
   "metadata": {},
   "outputs": [],
   "source": [
    "import matplotlib.pyplot as plt\n",
    "import numpy as np\n",
    "import sympy"
   ]
  },
  {
   "cell_type": "markdown",
   "metadata": {},
   "source": [
    "# Math Magic: Final Week Review\n",
    "![Party on](https://media.giphy.com/media/xU3xSF534t4ly/giphy.gif)"
   ]
  },
  {
   "cell_type": "markdown",
   "metadata": {},
   "source": [
    "# Review: A bit of modern math philosophy"
   ]
  },
  {
   "cell_type": "markdown",
   "metadata": {},
   "source": [
    "### What is the most elementary, simple, basic, primitive kind of math operation?"
   ]
  },
  {
   "cell_type": "markdown",
   "metadata": {},
   "source": [
    "### What do you call it when you do a bunch of ^that kind of operation in a row?"
   ]
  },
  {
   "cell_type": "markdown",
   "metadata": {},
   "source": [
    "### What do you call it when you do a bunch of ^that kind of operation in a row?"
   ]
  },
  {
   "cell_type": "markdown",
   "metadata": {},
   "source": [
    "### Believe it or not, you can keep going down that road. If you do a bunch of ^that in a row, it is called `tetration`!"
   ]
  },
  {
   "cell_type": "markdown",
   "metadata": {},
   "source": [
    "### A `hyperoperation` \n",
    "- The name for any `normal` operation (like the ones above).\n",
    "- This recursive repeated arithmetic operation can be described by:\n",
    "\n",
    "![SO HYPER](https://wikimedia.org/api/rest_v1/media/math/render/svg/2b5b37b38e6798ec67d72e429a051aa7641fb571)\n",
    "![Right?](https://media.giphy.com/media/t0Z2v0h7Vys2Q/giphy.gif)"
   ]
  },
  {
   "cell_type": "markdown",
   "metadata": {},
   "source": [
    "# Anyway, that's not even review. Back to the review!"
   ]
  },
  {
   "cell_type": "markdown",
   "metadata": {},
   "source": [
    "![triggrd](https://media.giphy.com/media/YEOLnB6lS4GA/giphy.gif)\n",
    "<img src=\"http://www.tiem.utk.edu/~gross/bioed/bealsmodules/triangle1.gif\" alt=\"Drawing\" style=\"width: 300px;\"/>\n",
    "\n",
    "# 1. What is the sine of theta? $sin(\\theta) = ?$\n",
    "# 2. What is the cosine of theta? $cos(\\theta) = ?$\n",
    "# 3. What is the tangent of theta? $tan(\\theta) = ?$\n",
    "\n",
    "# 4. What is the arcsine (inverse sine) of y / r ? $arcsin(\\frac{y}{r}) = ?$\n",
    "# 5. What is the arccosine (inverse cosine) of x / r ? $arccos(\\frac{x}{r}) = ?$\n",
    "# 6. What is the arctangent (inverse tangent) of y / x? $arctan(\\frac{y}{x}) = ?$\n",
    "\n",
    "<img src=\"http://etc.usf.edu/clipart/43200/43215/unit-circle7_43215_md.gif\" alt=\"Drawing\" style=\"width: 300px;\"/>\n",
    "\n",
    "# 1. What the heck is this demonic drawing above?\n",
    "# 2. How many $\\pi$ radians is 0 degrees?\n",
    "# 3. How many $\\pi$ radians is 90 degrees?\n",
    "# 4. How many $\\pi$ radians is 270 degrees?\n",
    "\n",
    "# 5. Calculate in python the conversion between any *degrees* angle to *radians*"
   ]
  },
  {
   "cell_type": "code",
   "execution_count": 6,
   "metadata": {},
   "outputs": [
    {
     "data": {
      "text/plain": [
       "0.7403686686959946"
      ]
     },
     "execution_count": 6,
     "metadata": {},
     "output_type": "execute_result"
    }
   ],
   "source": [
    "# YOUR CODE HERE! Try converting degrees to radians \n",
    "\n",
    "degrees = 42.42  # convert me to radians!\n",
    "\n",
    "degrees * (2*np.pi/360)\n",
    "\n",
    "# HINT: use np.pi, it is a highly accurate pi"
   ]
  },
  {
   "cell_type": "markdown",
   "metadata": {},
   "source": [
    "# Cowcooloose review\n",
    "\n",
    "![lolwut](https://media.giphy.com/media/vFKqnCdLPNOKc/giphy.gif)\n",
    "```\n",
    "                                       /;    ;\\\n",
    "                                   __  \\____//\n",
    "                                  /{_\\_/   `'\\____\n",
    "                                  \\___ ---(=)--(=)--}\n",
    "       _____________________________/          :--'\n",
    "   ,-,'`@@@@@@@@       @@@@@@         \\_    `__\\\n",
    "  ;:(  @@@@@@@@@        @@@             \\___(o'o)\n",
    "  :: )  @@@@          @@@@@@        ,'@@(  `===='\n",
    "  :: : @@@@@:          @@@@         `@@@:\n",
    "  :: \\  @@@@@:       @@@@@@@)    (  '@@@'\n",
    "  ;; /\\      /`,    @@@@@@@@@\\\\   :@@@@@)\n",
    "  ::/  )    {_----------------:  :~`, ;\n",
    " ;;'`; :   )                  :  / `; ;\n",
    ";;;; : :   ;                  :  ;  ; :\n",
    "`'`' / :  :                   :  :  : :\n",
    "    )_ \\__;      \";\"          :_ ;  \\_\\       `,','\n",
    "    :__\\  \\    * `,'*         \\  \\  :  \\   *  8`;'*  *\n",
    "        `^'     \\ :/           `^'  `-^-'   \\v/ :  \\/   -Bill Ames-     \n",
    "```"
   ]
  },
  {
   "cell_type": "markdown",
   "metadata": {},
   "source": [
    "### 1. What do we mean by the phrase \"rate of change\"?\n",
    "### 2. What do we call the \"rate of change\" of position?\n",
    "### 3. What do we call the \"rate of change\" of velocity/speed?\n",
    "### 4. What 1-word definition do we use for the phrase \"rate of change\"?\n",
    "\n",
    "### 5. What does this thing represent?\n",
    "## $\\frac{df(x)}{dx} = f'(x)$"
   ]
  },
  {
   "cell_type": "markdown",
   "metadata": {},
   "source": [
    "# Recall that...\n",
    "## $x(t) = position$\n",
    "## $\\frac{dx(t)}{dt}  = x'(t) = velocity$\n",
    "## $\\frac{dx^2(t)}{dt}  = x''(t) = acceleration$"
   ]
  },
  {
   "cell_type": "markdown",
   "metadata": {},
   "source": [
    "### 6. The function $f(x) = e^x$ is special for what reason?\n",
    "\n"
   ]
  },
  {
   "cell_type": "markdown",
   "metadata": {},
   "source": [
    "# GUESS WHAT\n",
    "\n",
    "![You followin me?](https://media.giphy.com/media/WuGSL4LFUMQU/giphy.gif)\n",
    "\n",
    "# I THINK\n",
    "\n",
    "![hmm](https://media.giphy.com/media/kPtv3UIPrv36cjxqLs/giphy.gif)\n",
    "\n",
    "#  WE WILL LEAVE IT AT THAT\n",
    "\n",
    "![yay](https://media.giphy.com/media/26n62j7cS0aZOYCu4/giphy.gif)"
   ]
  },
  {
   "cell_type": "markdown",
   "metadata": {},
   "source": [
    "# Thank you for a very fun semester!\n",
    "- I hope you learned something useful!"
   ]
  },
  {
   "cell_type": "code",
   "execution_count": null,
   "metadata": {},
   "outputs": [],
   "source": []
  }
 ],
 "metadata": {
  "kernelspec": {
   "display_name": "Python 3",
   "language": "python",
   "name": "python3"
  },
  "language_info": {
   "codemirror_mode": {
    "name": "ipython",
    "version": 3
   },
   "file_extension": ".py",
   "mimetype": "text/x-python",
   "name": "python",
   "nbconvert_exporter": "python",
   "pygments_lexer": "ipython3",
   "version": "3.6.5"
  }
 },
 "nbformat": 4,
 "nbformat_minor": 2
}
