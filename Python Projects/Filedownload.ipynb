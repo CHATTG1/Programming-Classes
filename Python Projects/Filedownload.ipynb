{
 "cells": [
  {
   "cell_type": "code",
   "execution_count": 1,
   "metadata": {},
   "outputs": [
    {
     "ename": "SyntaxError",
     "evalue": "invalid syntax (<ipython-input-1-d83c43713717>, line 3)",
     "output_type": "error",
     "traceback": [
      "\u001b[0;36m  File \u001b[0;32m\"<ipython-input-1-d83c43713717>\"\u001b[0;36m, line \u001b[0;32m3\u001b[0m\n\u001b[0;31m    name =\u001b[0m\n\u001b[0m           ^\u001b[0m\n\u001b[0;31mSyntaxError\u001b[0m\u001b[0;31m:\u001b[0m invalid syntax\n"
     ]
    }
   ],
   "source": [
    "import urllib.request\n",
    "\n",
    "name = \"C5\" \n",
    "link = f\"http://asdfasdfasdfsdfadfs/Piano.ff.{name}.aiff\"\n",
    "\n",
    "data = urllib.request.urlopen(link).read()  \n",
    "\n",
    "with open(f\"{name}.aiff\", \"wb\") as file:\n",
    "    file.write(data)"
   ]
  },
  {
   "cell_type": "code",
   "execution_count": 3,
   "metadata": {},
   "outputs": [
    {
     "data": {
      "text/plain": [
       "'What is 1/5 = 0.2'"
      ]
     },
     "execution_count": 3,
     "metadata": {},
     "output_type": "execute_result"
    }
   ],
   "source": [
    "stringy = f\"What is 1/5 = {1/5}\"\n",
    "stringy"
   ]
  },
  {
   "cell_type": "code",
   "execution_count": 4,
   "metadata": {},
   "outputs": [
    {
     "name": "stdout",
     "output_type": "stream",
     "text": [
      "Collecting soundfile\n",
      "\u001b[?25l  Downloading https://files.pythonhosted.org/packages/d2/06/58d71f2041bc89919f56a69f8f2b9535a55d513bb005fbe4f8ee5d367170/SoundFile-0.10.2-py2.py3.cp26.cp27.cp32.cp33.cp34.cp35.cp36.pp27.pp32.pp33-none-macosx_10_5_x86_64.macosx_10_6_intel.macosx_10_9_intel.macosx_10_9_x86_64.whl (616kB)\n",
      "\u001b[K    100% |████████████████████████████████| 624kB 6.8MB/s \n",
      "\u001b[?25hRequirement already satisfied: cffi>=1.0 in /Users/jonny/anaconda3/lib/python3.6/site-packages (from soundfile) (1.11.5)\n",
      "Requirement already satisfied: pycparser in /Users/jonny/anaconda3/lib/python3.6/site-packages (from cffi>=1.0->soundfile) (2.18)\n",
      "Installing collected packages: soundfile\n",
      "Successfully installed soundfile-0.10.2\n",
      "\u001b[33mYou are using pip version 18.0, however version 19.0.1 is available.\n",
      "You should consider upgrading via the 'pip install --upgrade pip' command.\u001b[0m\n"
     ]
    }
   ],
   "source": [
    "!pip install soundfile"
   ]
  },
  {
   "cell_type": "code",
   "execution_count": 6,
   "metadata": {},
   "outputs": [
    {
     "name": "stdout",
     "output_type": "stream",
     "text": [
      "0\n",
      "1\n",
      "2\n",
      "3\n",
      "4\n",
      "5\n",
      "6\n",
      "7\n",
      "8\n",
      "9\n"
     ]
    }
   ],
   "source": [
    "from time import time\n",
    "\n",
    "start = time()\n",
    "\n",
    "for _ in range(10):\n",
    "    print(_)\n",
    "    \n",
    "    if time() - start > .5:\n",
    "        start = time()\n",
    "        # DO YOUR THING\n",
    "        print('BEEP')"
   ]
  },
  {
   "cell_type": "code",
   "execution_count": null,
   "metadata": {},
   "outputs": [],
   "source": []
  }
 ],
 "metadata": {
  "kernelspec": {
   "display_name": "Python 3",
   "language": "python",
   "name": "python3"
  },
  "language_info": {
   "codemirror_mode": {
    "name": "ipython",
    "version": 3
   },
   "file_extension": ".py",
   "mimetype": "text/x-python",
   "name": "python",
   "nbconvert_exporter": "python",
   "pygments_lexer": "ipython3",
   "version": "3.6.5"
  }
 },
 "nbformat": 4,
 "nbformat_minor": 2
}
