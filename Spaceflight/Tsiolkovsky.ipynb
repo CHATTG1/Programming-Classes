{
 "cells": [
  {
   "cell_type": "markdown",
   "metadata": {},
   "source": [
    "![Konstantin](https://upload.wikimedia.org/wikipedia/commons/4/46/Konstantin_Tsiolkovsky_1930s2.jpg)\n",
    "# WHODAT?\n",
    "\n",
    "\n",
    "# why, *Konstantin Tsiolovsky* of course!\n",
    "\n",
    "#### A father of cosmonautics!"
   ]
  },
  {
   "cell_type": "markdown",
   "metadata": {},
   "source": [
    "... What'd he do again?\n",
    "\n",
    "# *HE DID THIS*\n",
    "\n",
    "# $ \\Delta V = {v}_{e} * log(\\frac{{m}_{0}}{{m}_{f}}  ) $\n",
    "\n",
    "# $ {v}_{e} = {I}_{sp} * {g}_{0} $ "
   ]
  },
  {
   "cell_type": "markdown",
   "metadata": {},
   "source": [
    "![](https://media.giphy.com/media/k59yYusdGXlPG/giphy.gif)\n",
    "![](https://media.giphy.com/media/glmRyiSI3v5E4/giphy.gif)\n",
    "![](https://media.giphy.com/media/W8tVTtVKk88ww/giphy.gif)\n",
    "![](https://media.giphy.com/media/2XskdWuNUyqElkKe4bm/giphy.gif)"
   ]
  },
  {
   "cell_type": "markdown",
   "metadata": {},
   "source": [
    "# OKAY OKAY\n",
    "#### *Let's take it step by step*\n",
    "\n",
    "# Step 1. Effective exhaust velocity, ${v}_{e}$\n",
    "\n",
    "![](http://www.aerospaceweb.org/design/aerospike/figures/fig01.gif)\n",
    "\n",
    "- Effective exhaust velocity is :\n",
    "    - **effectively,** the **speed** a rocket's exhaust gas *exits the rocket engine*\n",
    "\n",
    "\n",
    "- ${v}_{e}$ is a short-hand for \"effective exhaust velocity\"\n",
    "\n",
    "# Step 2. Specific impulse, or ${I}_{sp}$\n",
    "\n",
    "- This number drives the **fuel efficiency** of the rocket engine\n",
    "- ** IT AIN'T NO PRIUS, THAT'S FOR SURE **\n",
    "![](https://media.giphy.com/media/UkvIkvUdwCAw/giphy.gif)\n",
    "\n",
    "- **Example**: Space Shuttle Main Engine (SSME, RS25)\n",
    "![](https://upload.wikimedia.org/wikipedia/commons/thumb/4/45/020408_STS110_Atlantis_launch.jpg/2560px-020408_STS110_Atlantis_launch.jpg)\n",
    "\n",
    "#### ${I}_{sp}$ = 452.3 s (vacuum)\n",
    "#### ${I}_{sp}$ = 366.0 s (sea level)\n",
    "\n",
    "- **Example**: Saturn V First Stage Engine (F-1)\n",
    "![](https://upload.wikimedia.org/wikipedia/commons/thumb/1/16/S-IC_engines_and_Von_Braun.jpg/1920px-S-IC_engines_and_Von_Braun.jpg)\n",
    "\n",
    "#### ${I}_{sp}$ = 304 s (vacuum)\n",
    "#### ${I}_{sp}$ = 263 s (sea level)"
   ]
  },
  {
   "cell_type": "markdown",
   "metadata": {},
   "source": [
    "# Step 3. $y = log(x)$\n",
    "\n",
    "#### You might think it's some rocket thing but it's really just math"
   ]
  },
  {
   "cell_type": "code",
   "execution_count": 12,
   "metadata": {},
   "outputs": [],
   "source": [
    "# IGNORE THIS\n",
    "import matplotlib.pyplot as plt\n",
    "import numpy as np\n",
    "from numpy import log"
   ]
  },
  {
   "cell_type": "code",
   "execution_count": 13,
   "metadata": {},
   "outputs": [
    {
     "data": {
      "text/plain": [
       "Text(0.5,1,'This is what log looks like')"
      ]
     },
     "execution_count": 13,
     "metadata": {},
     "output_type": "execute_result"
    },
    {
     "data": {
      "image/png": "[encoded data removed]",
      "text/plain": [
       "<Figure size 432x288 with 1 Axes>"
      ]
     },
     "metadata": {},
     "output_type": "display_data"
    }
   ],
   "source": [
    "x = np.linspace(1e-6, 15, 500)\n",
    "y = np.log(x)\n",
    "plt.plot(x,y)\n",
    "plt.xlabel('$x$')\n",
    "plt.ylabel('$y$')\n",
    "plt.title('This is what log looks like')"
   ]
  },
  {
   "cell_type": "markdown",
   "metadata": {},
   "source": [
    "** I don't expect that to make perfect sense but just hang on! **\n",
    "# Step 4. Putting it all together\n",
    "\n",
    "# $ {v}_{e} = {I}_{sp} * {g}_{0} $ \n",
    "\n",
    "- ${g}_{0}$ is constant... It's always 9.80665 $\\frac{m}{s^2}$\n",
    "\n",
    "# $ \\Delta V = {v}_{e} * log(\\frac{{m}_{0}}{{m}_{f}}  ) $\n",
    "\n",
    "# $ \\Delta V = ({I}_{sp} * {g}_{0}) * log(\\frac{{m}_{0}}{{m}_{f}}  ) $\n",
    "\n",
    "- ${m}_{0}$ means \"initial mass\" *(mass at t=0)*, the rocket mass including all fuel\n",
    "- ${m}_{f}$ means \"final mass\", the rocket mass when the fuel is spent\n",
    "\n",
    "**Example**: Falcon 9 first stage!\n",
    "![](https://upload.wikimedia.org/wikipedia/commons/thumb/e/eb/Bangabandhu_Satellite-1_Mission_%2842025499722%29.jpg/1280px-Bangabandhu_Satellite-1_Mission_%2842025499722%29.jpg)\n",
    "- ${g}_{0}$ = 9.81 $\\frac{m}{s^2}$ (always)\n",
    "- ${I}_{sp}$ = 282 s (sea level) (assume constant)\n",
    "- ${m}_{0}$ = 549,000 kg\n",
    "- ${m}_{f}$ = 549,000 kg - 395,700 kg (propellant mass)\n",
    "\n",
    "$ \\Delta V = ({I}_{sp} * {g}_{0}) * log(\\frac{{m}_{0}}{{m}_{f}}  ) $"
   ]
  },
  {
   "cell_type": "code",
   "execution_count": 14,
   "metadata": {},
   "outputs": [],
   "source": [
    "g0 = 9.80665\n",
    "Isp = 282\n",
    "m0 = 549_000\n",
    "mf = 549_000 - 395_700\n",
    "\n",
    "delta_v = (Isp * g0) * log(m0/mf) # THE TSIOLKOVSKY EQUATION!!!"
   ]
  },
  {
   "cell_type": "code",
   "execution_count": 15,
   "metadata": {},
   "outputs": [
    {
     "name": "stdout",
     "output_type": "stream",
     "text": [
      "You gotchoself:  3527.9214188187443 m/s of delta v\n"
     ]
    }
   ],
   "source": [
    "print(\"You gotchoself: \", delta_v, 'm/s of delta v')"
   ]
  },
  {
   "cell_type": "markdown",
   "metadata": {},
   "source": [
    "![](https://media.giphy.com/media/YXpp9YxWhyWBy/giphy.gif)\n",
    "![](https://media.giphy.com/media/gVYk3rI8YjtAI/giphy.gif)"
   ]
  },
  {
   "cell_type": "code",
   "execution_count": null,
   "metadata": {},
   "outputs": [],
   "source": []
  }
 ],
 "metadata": {
  "kernelspec": {
   "display_name": "Python 3",
   "language": "python",
   "name": "python3"
  },
  "language_info": {
   "codemirror_mode": {
    "name": "ipython",
    "version": 3
   },
   "file_extension": ".py",
   "mimetype": "text/x-python",
   "name": "python",
   "nbconvert_exporter": "python",
   "pygments_lexer": "ipython3",
   "version": "3.6.5"
  }
 },
 "nbformat": 4,
 "nbformat_minor": 2
}
