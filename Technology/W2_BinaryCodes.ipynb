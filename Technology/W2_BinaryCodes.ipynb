{
 "cells": [
  {
   "cell_type": "markdown",
   "metadata": {},
   "source": [
    "# Welcome to Week 2!\n",
    "\n",
    "#### To understand of computers, we are going to learn a little *Python*\n",
    "\n",
    "![](https://media.giphy.com/media/NAcNfRrU6f2bC/giphy.gif)\n",
    "\n",
    "\n",
    "#### First off, let's say hello to ourselves!"
   ]
  },
  {
   "cell_type": "code",
   "execution_count": 4,
   "metadata": {},
   "outputs": [
    {
     "name": "stdout",
     "output_type": "stream",
     "text": [
      "Hello!\n"
     ]
    }
   ],
   "source": [
    "word = \"Hello!\"\n",
    "print(word)"
   ]
  },
  {
   "cell_type": "markdown",
   "metadata": {},
   "source": [
    "#### Now, let's figure out what is the \"binary\" of the letter \"J\"?\n",
    "- In other words, what is the standard sequence of 0's and 1's that computers use to represent the letter \"J\"?"
   ]
  },
  {
   "cell_type": "code",
   "execution_count": 5,
   "metadata": {},
   "outputs": [
    {
     "name": "stdout",
     "output_type": "stream",
     "text": [
      "74\n"
     ]
    }
   ],
   "source": [
    "letter = \"J\"\n",
    "number = ord(letter)  # ord gets the \"order\" of the letter\n",
    "print(number)"
   ]
  },
  {
   "cell_type": "markdown",
   "metadata": {},
   "source": [
    "#### So, you can see, \"J\" equals 74\n",
    "##### ... But what is 74 in binary?"
   ]
  },
  {
   "cell_type": "code",
   "execution_count": 7,
   "metadata": {},
   "outputs": [
    {
     "name": "stdout",
     "output_type": "stream",
     "text": [
      "0b1001010\n"
     ]
    }
   ],
   "source": [
    "binary = bin(74)\n",
    "print(binary)"
   ]
  },
  {
   "cell_type": "markdown",
   "metadata": {},
   "source": [
    "# So, \"J\" is 74 is 1001010\n",
    "\n",
    "![RAD](https://media.giphy.com/media/3o72EYxyS359bvC5Ak/giphy.gif)"
   ]
  },
  {
   "cell_type": "code",
   "execution_count": null,
   "metadata": {},
   "outputs": [],
   "source": []
  }
 ],
 "metadata": {
  "kernelspec": {
   "display_name": "Python 3",
   "language": "python",
   "name": "python3"
  },
  "language_info": {
   "codemirror_mode": {
    "name": "ipython",
    "version": 3
   },
   "file_extension": ".py",
   "mimetype": "text/x-python",
   "name": "python",
   "nbconvert_exporter": "python",
   "pygments_lexer": "ipython3",
   "version": "3.6.5"
  }
 },
 "nbformat": 4,
 "nbformat_minor": 2
}
