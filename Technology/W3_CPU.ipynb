{
 "cells": [
  {
   "cell_type": "markdown",
   "metadata": {},
   "source": [
    "# Before CPU stuff, something cool:"
   ]
  },
  {
   "cell_type": "code",
   "execution_count": 31,
   "metadata": {},
   "outputs": [],
   "source": [
    "names = [\n",
    "    \n",
    "    'taya',\n",
    "    'wyatt',\n",
    "    'donovan',\n",
    "    'jonny?!',\n",
    "    \n",
    "]"
   ]
  },
  {
   "cell_type": "code",
   "execution_count": 32,
   "metadata": {},
   "outputs": [
    {
     "name": "stdout",
     "output_type": "stream",
     "text": [
      "taya = [116, 97, 121, 97]\n",
      "wyatt = [119, 121, 97, 116, 116]\n",
      "donovan = [100, 111, 110, 111, 118, 97, 110]\n",
      "jonny?! = [106, 111, 110, 110, 121, 63, 33]\n"
     ]
    }
   ],
   "source": [
    "for name in names:\n",
    "    print(name, '=', [ord(letter) for letter in list(name)])"
   ]
  },
  {
   "cell_type": "code",
   "execution_count": 33,
   "metadata": {},
   "outputs": [
    {
     "name": "stdout",
     "output_type": "stream",
     "text": [
      "taya :\n",
      "      t : 1110100\n",
      "      a : 1100001\n",
      "      y : 1111001\n",
      "      a : 1100001\n",
      "wyatt :\n",
      "      w : 1110111\n",
      "      y : 1111001\n",
      "      a : 1100001\n",
      "      t : 1110100\n",
      "      t : 1110100\n",
      "donovan :\n",
      "      d : 1100100\n",
      "      o : 1101111\n",
      "      n : 1101110\n",
      "      o : 1101111\n",
      "      v : 1110110\n",
      "      a : 1100001\n",
      "      n : 1101110\n",
      "jonny?! :\n",
      "      j : 1101010\n",
      "      o : 1101111\n",
      "      n : 1101110\n",
      "      n : 1101110\n",
      "      y : 1111001\n",
      "      ? : 111111\n",
      "      ! : 100001\n"
     ]
    }
   ],
   "source": [
    "for name in names:\n",
    "    print(name, ':')\n",
    "    \n",
    "    mapping = {letter : \"{0:b}\".format(ord(letter)) \n",
    "                           for letter in list(name)}\n",
    "    \n",
    "    for letter in list(name):\n",
    "        print('     ', letter,':', mapping[letter])"
   ]
  },
  {
   "cell_type": "markdown",
   "metadata": {},
   "source": [
    "# COOL BEANS.\n",
    "\n",
    "#### Now CPU stuff!\n",
    "\n",
    "\n",
    "----\n",
    "----\n",
    "\n",
    "# Quick history of the processor \n",
    "## (more on this later)\n",
    "\n",
    "----\n",
    "----\n",
    "\n"
   ]
  },
  {
   "cell_type": "code",
   "execution_count": 55,
   "metadata": {},
   "outputs": [],
   "source": [
    "# IGNORE THESE\n",
    "import numpy as np\n",
    "from numba import njit\n",
    "\n",
    "# This function adds numbers:\n",
    "def add(*args):\n",
    "    summed = 0\n",
    "    for a in args:\n",
    "        summed += a\n",
    "    return summed"
   ]
  },
  {
   "cell_type": "markdown",
   "metadata": {},
   "source": [
    "# We've made a program to do a very simple CPU operation\n",
    "#### ... addition"
   ]
  },
  {
   "cell_type": "code",
   "execution_count": 40,
   "metadata": {},
   "outputs": [
    {
     "data": {
      "text/plain": [
       "2"
      ]
     },
     "execution_count": 40,
     "metadata": {},
     "output_type": "execute_result"
    }
   ],
   "source": [
    "add(1,1)"
   ]
  },
  {
   "cell_type": "code",
   "execution_count": 41,
   "metadata": {},
   "outputs": [
    {
     "data": {
      "text/plain": [
       "10"
      ]
     },
     "execution_count": 41,
     "metadata": {},
     "output_type": "execute_result"
    }
   ],
   "source": [
    "add(1,2,3,4)"
   ]
  },
  {
   "cell_type": "markdown",
   "metadata": {},
   "source": [
    "# DUH. But how fast is it?"
   ]
  },
  {
   "cell_type": "code",
   "execution_count": 43,
   "metadata": {},
   "outputs": [
    {
     "name": "stdout",
     "output_type": "stream",
     "text": [
      "took 4.00543212890625e-05 seconds\n"
     ]
    }
   ],
   "source": [
    "from time import time\n",
    "\n",
    "start = time()\n",
    "add(1,2,4,5,10,100)\n",
    "done = time()\n",
    "\n",
    "print('took', done-start, 'seconds')"
   ]
  },
  {
   "cell_type": "markdown",
   "metadata": {},
   "source": [
    "# That's like 0.00004 seconds woah\n",
    "\n",
    "### But what if we need to add like 1 million numbers?"
   ]
  },
  {
   "cell_type": "code",
   "execution_count": 45,
   "metadata": {},
   "outputs": [
    {
     "name": "stdout",
     "output_type": "stream",
     "text": [
      "took 0.06831002235412598 seconds\n"
     ]
    }
   ],
   "source": [
    "start = time()\n",
    "add(np.random.random(int(1e6)))\n",
    "done = time()\n",
    "\n",
    "print('took', done-start, 'seconds')"
   ]
  },
  {
   "cell_type": "markdown",
   "metadata": {},
   "source": [
    "# That's 0.068 seconds, hmmm slower!\n",
    "\n",
    "### But what if we need to add like 1 trillion numbers, 10 times?"
   ]
  },
  {
   "cell_type": "code",
   "execution_count": 52,
   "metadata": {},
   "outputs": [
    {
     "name": "stdout",
     "output_type": "stream",
     "text": [
      "took 2.98760986328125 seconds\n"
     ]
    }
   ],
   "source": [
    "p = np.random.random(int(1e8))\n",
    "start = time()\n",
    "for repeat in range(10):\n",
    "    add(p)\n",
    "done = time()\n",
    "\n",
    "print('took', done-start, 'seconds')"
   ]
  },
  {
   "cell_type": "markdown",
   "metadata": {},
   "source": [
    "# 3 seconds?? TOO SLOW. Let's add in PARALLEL!"
   ]
  },
  {
   "cell_type": "code",
   "execution_count": 53,
   "metadata": {},
   "outputs": [],
   "source": [
    "# This function adds numbers:\n",
    "@njit(parallel=True)\n",
    "def padd(args):\n",
    "    return np.sum(args)"
   ]
  },
  {
   "cell_type": "code",
   "execution_count": 54,
   "metadata": {},
   "outputs": [
    {
     "name": "stdout",
     "output_type": "stream",
     "text": [
      "took 0.6321461200714111 seconds\n"
     ]
    }
   ],
   "source": [
    "p = np.random.random(int(1e8))\n",
    "start = time()\n",
    "for repeat in range(10):\n",
    "    padd(p)\n",
    "done = time()\n",
    "\n",
    "print('took', done-start, 'seconds')"
   ]
  },
  {
   "cell_type": "markdown",
   "metadata": {},
   "source": [
    "# 0.6 seconds?? Much better!"
   ]
  },
  {
   "cell_type": "markdown",
   "metadata": {},
   "source": []
  }
 ],
 "metadata": {
  "kernelspec": {
   "display_name": "Python 3",
   "language": "python",
   "name": "python3"
  },
  "language_info": {
   "codemirror_mode": {
    "name": "ipython",
    "version": 3
   },
   "file_extension": ".py",
   "mimetype": "text/x-python",
   "name": "python",
   "nbconvert_exporter": "python",
   "pygments_lexer": "ipython3",
   "version": "3.6.5"
  }
 },
 "nbformat": 4,
 "nbformat_minor": 2
}
